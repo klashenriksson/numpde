{
 "cells": [
  {
   "cell_type": "markdown",
   "metadata": {},
   "source": [
    "# Homework 2"
   ]
  },
  {
   "cell_type": "markdown",
   "metadata": {},
   "source": [
    "### This is the solution of:\n",
    "* Klas Henriksson klhe0017\n",
    "* Joel Nilsson joni0295\n",
    "* Daniel Dahlgren Lindström dali0125\n",
    "\n",
    "\n",
    "The same general rules as for Homework 1 applies.\n",
    "\n",
    "$\\newcommand{\\dx}{\\,\\mathrm{d}x}$"
   ]
  },
  {
   "cell_type": "code",
   "execution_count": 1,
   "metadata": {},
   "outputs": [],
   "source": [
    "from IPython.core.display import HTML\n",
    "def css_styling():\n",
    "    styles = open(\"./custom-style.css\", \"r\").read()\n",
    "    return HTML(styles)\n",
    "\n",
    "# Comment out next line and execute this cell to restore the default notebook style \n",
    "#css_styling()"
   ]
  },
  {
   "cell_type": "markdown",
   "metadata": {},
   "source": [
    "## Problem 1 (Finite Difference Method in 2D)"
   ]
  },
  {
   "cell_type": "markdown",
   "metadata": {},
   "source": [
    " **a)** Let $\\Omega = (0,1)\\times (0,1)$.\n",
    "For the functions $u_k(x,y) = \\sin(2 \\pi k x) \\sin(2 \\pi k y)$ with frequency $k \\in \\mathbb{N}$,\n",
    "compute analytically the right-hand side $f$ and boundary data $g$\n",
    "such that $u_k$ satisfies the Poisson problem\n",
    "\\begin{align*}\n",
    "- \\Delta u_k  &= f \\quad \\text{in } \\Omega,\n",
    "\\\\\n",
    " u_k &= g \\quad \\text{on } \\partial \\Omega.\n",
    "\\end{align*}\n",
    "\n"
   ]
  },
  {
   "cell_type": "markdown",
   "metadata": {},
   "source": [
    "**b)** Based on the code snippets below, implement a finite difference scheme to solve the problem given in a) for $k = 2$ numerically. For the computational grid, assume equally spaced subdivisions in $x$ and $y$ direction, starting with $N=8$ subintervals in each spatial direction. For $N = 8, 16, 32, 64$, compute and plot the finite difference solution $U$."
   ]
  },
  {
   "cell_type": "markdown",
   "metadata": {},
   "source": [
    "# Answers\n",
    "\n",
    "## a)\n",
    "We have\n",
    "$$\n",
    "- \\Delta u_k = - \\nabla \\cdot \\nabla u_k = - \\nabla \\cdot 2\\pi k\n",
    "\\begin{bmatrix}\n",
    "\\sin(2\\pi k y) \\cos (2 \\pi k x) \\\\\n",
    "\\sin(2 \\pi k x) \\cos (2 \\pi k y) \\\\\n",
    "\\end{bmatrix}\n",
    "= 8\\pi^2 k^2 \\sin (2 \\pi k y) \\sin (2 \\pi k x) = f\n",
    "$$\n",
    "on $\\Omega$.\n",
    "\n",
    "Furthermore, we can divide the boundry $ \\partial \\Omega $ into four parts: $(x,y) = (x,0), (0,y), (x,1), (1,y)$.\n",
    "\n",
    "From the first and second boundry we have\n",
    "$$ u_k(x,0) = u_k(0,y) = 0 $$\n",
    "\n",
    "The boundry $(x,y) = (x,1)$ have the expression\n",
    "$$ u_k(x,1) = \\sin (2 \\pi k x) \\sin (2 \\pi k y) = 0 $$\n",
    "as $k \\in \\mathbb{N}$. Similarly,\n",
    "$$ u_k(1,y) = \\sin (2 \\pi k) \\sin (2 \\pi k x) = 0 $$\n",
    "and so we have that the function vanishes at the boundry, and that $g = 0$ on $\\partial \\Omega$.\n",
    "\n",
    "## b)\n",
    "See code below."
   ]
  },
  {
   "cell_type": "markdown",
   "metadata": {},
   "source": [
    "### Code Snippets"
   ]
  },
  {
   "cell_type": "markdown",
   "metadata": {},
   "source": [
    "As in Lab 1, places marked with $\\ldots$ need you attention and must be filled with proper code.\n",
    "\n",
    "We start with importing the necessary scientific libraries and define name aliases for them."
   ]
  },
  {
   "cell_type": "code",
   "execution_count": 1,
   "metadata": {},
   "outputs": [],
   "source": [
    "# Array and stuff \n",
    "import numpy as np\n",
    "# Linear algebra solvers from scipy\n",
    "import scipy.linalg as la\n",
    "# Basic plotting routines from the matplotlib library \n",
    "import matplotlib.pyplot as plt\n",
    "# We also need access to the colormaps for 3D plotting\n",
    "from matplotlib import cm\n",
    "# For 3D plotting\n",
    "from mpl_toolkits.mplot3d import Axes3D\n",
    "\n",
    "import pandas as pd"
   ]
  },
  {
   "cell_type": "markdown",
   "metadata": {},
   "source": [
    "Next, we define a surface plotting function."
   ]
  },
  {
   "cell_type": "code",
   "execution_count": 3,
   "metadata": {},
   "outputs": [],
   "source": [
    "def plot2D(X, Y, Z, title=\"\"):\n",
    "    # Define a new figure with given size \n",
    "    fig = plt.figure(figsize=(11, 7), dpi=100)\n",
    "    ax = fig.gca(projection='3d')\n",
    "    surf = ax.plot_surface(X, Y, Z,             \n",
    "                           rstride=1, cstride=1, # Sampling rates for the x and y input data\n",
    "                           cmap=cm.viridis)      # Use the new fancy colormap viridis\n",
    "    # Set initial view angle\n",
    "    ax.view_init(30, 225)\n",
    "    \n",
    "    # Set labels and show figure\n",
    "    ax.set_xlabel('$x$')\n",
    "    ax.set_ylabel('$y$')\n",
    "    ax.set_title(title)\n",
    "    plt.show()"
   ]
  },
  {
   "cell_type": "markdown",
   "metadata": {},
   "source": [
    "Now the real fun begins. We will implement our FDM in a function which takes the number of subintervals in each spatial direction $N$ and the frequency $k$ as arguments. We include a description of the function (a so-called \"docstring\") at the beginning of the function. To get a feeling for the various data structure we are going to use, it might be helpful to print out a few of them and to look them up in the numpy/scipy documentation while you implementing the scheme!\n",
    "\n",
    "In addition to the inbuilt documentation in the Spyder IDE, you can also look up things easily by scanning through the method/class index at\n",
    "https://docs.scipy.org/doc/numpy/genindex.html"
   ]
  },
  {
   "cell_type": "code",
   "execution_count": 31,
   "metadata": {},
   "outputs": [],
   "source": [
    "def fdm_poisson_2d_dense(N, k):\n",
    "    '''A simple finite difference solver in 2d using a full matrix representation.'''\n",
    "\n",
    "    # 1) Compute right hand side     \n",
    "    \n",
    "    # To define the grid we could use \"linspace\" as in Lab 1 to define subdivisions for the $x$ and $y$ axes.\n",
    "    # But to make plotting easy and to vectorize the evaluation of the right-hand side $f$,  \n",
    "    # we define x and y coordinates for the grid using a \"sparse grid\" representation using the function 'ogrid'.\n",
    "   \n",
    "    x,y = np.ogrid[0:1:(N+1)*1j, 0:1:(N+1)*1j]\n",
    "    # Here, 1j is not interpreted as the imaginary unit, rather \"(N+1)*1j\" forces to include the end points\n",
    "    # Print x and y to see how they look like!\n",
    "    \n",
    "    # Evaluate f on the grid. \n",
    "    F_grid = 8 * np.pi**2 * k**2 * np.sin(2 * np.pi * k * x)*np.sin(2 * np.pi * k * y)\n",
    "    \n",
    "    # You can print F_grid to verify that you got a 2 dimensional array\n",
    "    # print(F_grid)\n",
    "    \n",
    "    # You can also plot F_grid now if you want :)\n",
    "    # plot2D(x, y, F_grid, \"f\")\n",
    "    \n",
    "    # Now we define our rhs by flattening out F, making it a 1 dimensional array of length (N+1)*(N+1). \n",
    "    F = F_grid.ravel()  \n",
    "    \n",
    "    # 2) Create Matrix entries for unknowns associated with inner grid points. \n",
    "    \n",
    "    # To translate the grid based double index into a proper numbering, we define a \n",
    "    # small mapping function, assuming a row-wise numbering. \n",
    "    # Drawing a picture of the grid and numbering the grid points in a row wise manner\n",
    "    # helps to understand this mapping!\n",
    "    def m(i,j):\n",
    "        return i + j * (N+1)\n",
    "\n",
    "    # Total number of unknowns is M = (N+1)*(N+1)\n",
    "    M = (N+1)**2\n",
    "    \n",
    "    # Allocate a (full!) MxM matrix filled with zeros\n",
    "    A = np.zeros((M,M))\n",
    "    \n",
    "    # Meshsize h\n",
    "    h = 1/N\n",
    "    hh = h*h\n",
    "    \n",
    "    # Compute matrix A entries by iterating over the *inner* grid points first.\n",
    "    for i in range(1,N):      # i is the row number for the grid point\n",
    "        for j in range(1,N):  # j is the column number for the grid point\n",
    "            # Compute the index of the unknown at grid point (i,j). \n",
    "            # This is also the index of the row in matrix A we want to fill. \n",
    "            ri = m(i,j)       \n",
    "            A[ri,m(i,j)] = 4/hh # U_ij\n",
    "            A[ri,m(i-1,j)] = -1/hh   # U_{i-1,j}\n",
    "            A[ri,m(i+1, j)] = -1/hh    # U_{i+1,j}\n",
    "            A[ri,m(i,j-1)] = -1/hh    # U_{i,j-1}\n",
    "            A[ri,m(i,j+1)] = -1/hh    # U_{i,j+1}\n",
    "    \n",
    "    # 3) Incorporate boundary conditions\n",
    "    # Boundary condition \n",
    "    for i in [0, N]:\n",
    "        for j in range(0,N+1):\n",
    "            # Define row index related to unknown U_m(i,j)\n",
    "            ri = m(i,j)\n",
    "            A[ri,ri] = 1\n",
    "            F[ri] = 0\n",
    "    \n",
    "    # Boundary condition \n",
    "    for j in [0, N]:\n",
    "        for i in range(1,N):\n",
    "            # Define row index related to unknown U_m(i,j)\n",
    "            ri = m(i,j)\n",
    "            A[ri,ri] = 1 \n",
    "            F[ri] = 0     \n",
    "    \n",
    "    \n",
    "    # 4) Solve linear systems\n",
    "    # Solve linear algebra system \n",
    "    U = la.solve(A,F)\n",
    "    \n",
    "    # Reshape the flat solution vector U to make it a grid function\n",
    "    U_grid = U.reshape((N+1,N+1))\n",
    "    U_anal = np.sin(2 * np.pi * k * x)*np.sin(2*np.pi*k*y)\n",
    "    \n",
    "    # Return solution and x and y grid points for easy plotting\n",
    "    return (x,y,U_grid, U_anal)"
   ]
  },
  {
   "cell_type": "markdown",
   "metadata": {},
   "source": [
    "**c**) Compute the experimental order of convergence (EOC)\n",
    "for $N = 16, 32, 64$ using $\\max_{i} |U-u|$ as error measure. Summarize your results in a table. \n",
    "What convergence rate do you get? If you don't get an EOC very close to $2$, find the bugs in your code :)"
   ]
  },
  {
   "cell_type": "markdown",
   "metadata": {},
   "source": [
    "**d**) Test how large you can chose the resolution $N$ until either the problem takes too long (say 5 minutes) to compute or uses too much memory. Explain, what happens. Why does the problem\n",
    "scale so badly with respect to $N$?"
   ]
  },
  {
   "cell_type": "markdown",
   "metadata": {},
   "source": [
    "# Answers\n",
    "\n",
    "## c)\n",
    "See table below! We got an EOC very close to 2.\n",
    "\n",
    "## d)\n",
    "We saw that for N = 256 our program froze and could not compute the solution. The problem scales very poorly. We can understand this by realizing that as we have (N+1)^2 unknowns, we get a very large (N+1)^2x(N+1)^2 matrix. If we double N, the matrix will have 16 times more elements. This quickly becomes a very large matrix, which consumes a lot of memory and also becomes much more time consuming to solve."
   ]
  },
  {
   "cell_type": "code",
   "execution_count": 5,
   "metadata": {},
   "outputs": [],
   "source": [
    "Ns = [8,16,32,64]\n",
    "k = 2\n",
    "errors = []\n",
    "for N in Ns:\n",
    "    (x,y,U_grid, U_analytic) = fdm_poisson_2d_dense(N, k)\n",
    "    errors.append(np.max(np.abs(U_grid - U_analytic)))\n",
    "    #plot2D(x,y,U_grid, f\"U, N={N} k={k}\")"
   ]
  },
  {
   "cell_type": "code",
   "execution_count": 23,
   "metadata": {},
   "outputs": [
    {
     "data": {
      "text/html": [
       "<div>\n",
       "<style scoped>\n",
       "    .dataframe tbody tr th:only-of-type {\n",
       "        vertical-align: middle;\n",
       "    }\n",
       "\n",
       "    .dataframe tbody tr th {\n",
       "        vertical-align: top;\n",
       "    }\n",
       "\n",
       "    .dataframe thead th {\n",
       "        text-align: right;\n",
       "    }\n",
       "</style>\n",
       "<table border=\"1\" class=\"dataframe\">\n",
       "  <thead>\n",
       "    <tr style=\"text-align: right;\">\n",
       "      <th></th>\n",
       "      <th>Error</th>\n",
       "      <th>EOC</th>\n",
       "    </tr>\n",
       "    <tr>\n",
       "      <th>N</th>\n",
       "      <th></th>\n",
       "      <th></th>\n",
       "    </tr>\n",
       "  </thead>\n",
       "  <tbody>\n",
       "    <tr>\n",
       "      <th>16</th>\n",
       "      <td>0.233701</td>\n",
       "      <td>2.139800</td>\n",
       "    </tr>\n",
       "    <tr>\n",
       "      <th>32</th>\n",
       "      <td>0.053029</td>\n",
       "      <td>2.033754</td>\n",
       "    </tr>\n",
       "    <tr>\n",
       "      <th>64</th>\n",
       "      <td>0.012951</td>\n",
       "      <td>2.008367</td>\n",
       "    </tr>\n",
       "  </tbody>\n",
       "</table>\n",
       "</div>"
      ],
      "text/plain": [
       "       Error       EOC\n",
       "N                     \n",
       "16  0.233701  2.139800\n",
       "32  0.053029  2.033754\n",
       "64  0.012951  2.008367"
      ]
     },
     "execution_count": 23,
     "metadata": {},
     "output_type": "execute_result"
    }
   ],
   "source": [
    "    #do error stuff\n",
    "    eocs = []\n",
    "    for i in range(0,len(errors)-1):\n",
    "        eoc = np.log(errors[i]/errors[i+1])/np.log(2)\n",
    "        eocs.append(eoc)\n",
    "    #eocs.append(np.nan)\n",
    "\n",
    "    data = {\"Error\":errors[:len(errors)-1], \"EOC\":eocs}\n",
    "    df = pd.DataFrame(data, index=Ns[1:len(Ns)])\n",
    "    df = df[[\"Error\", \"EOC\"]]\n",
    "    df.index.name=\"N\"\n",
    "    df"
   ]
  },
  {
   "cell_type": "markdown",
   "metadata": {},
   "source": [
    "**e**) Based on your implementation from, we now implement a finite difference using *sparse* matrices. Knowing the structure and entries of the matrix a priori, the most efficient \n",
    "realization would be based on (block) tridiagonal sparse matrices. \n",
    "But anticipating the forthcoming task of implementing schemes based on the finite element method, we will take a middle ground and simply switch to a flexible sparse matrix format which allows\n",
    "for minimal adjustments of you previous solver implementation.\n",
    "To this end you have incorporate the following code snippets into your code.\n",
    "\n",
    "# Answers\n",
    "\n",
    "## e)\n",
    "See code below for implementation."
   ]
  },
  {
   "cell_type": "markdown",
   "metadata": {},
   "source": [
    "### Code Snippets"
   ]
  },
  {
   "cell_type": "markdown",
   "metadata": {},
   "source": [
    "Get access to sparse matrices and sparse solvers."
   ]
  },
  {
   "cell_type": "code",
   "execution_count": 2,
   "metadata": {},
   "outputs": [],
   "source": [
    "import scipy.sparse as sp\n",
    "from scipy.sparse.linalg.dsolve import spsolve"
   ]
  },
  {
   "cell_type": "markdown",
   "metadata": {},
   "source": [
    "Use a sparse matrix format for $A$, see https://docs.scipy.org/doc/scipy-0.19.1/reference/sparse.html\n",
    "for the many formats which are available. Here we use \"dictionary of keys\" based representation which\n",
    "is an empty matrix to begin with and which can easily filled with non-zero values at the appropriate\n",
    "places."
   ]
  },
  {
   "cell_type": "code",
   "execution_count": null,
   "metadata": {},
   "outputs": [],
   "source": [
    "A = sp.dok_matrix((M, M))"
   ]
  },
  {
   "cell_type": "markdown",
   "metadata": {},
   "source": [
    "After creating the matrix we have to convert it to a different format, the so-called\n",
    "\"Compressed Sparse Row matrix\" representation, which is much more efficient when solving the system $A U = F$ with a sparse solver."
   ]
  },
  {
   "cell_type": "code",
   "execution_count": null,
   "metadata": {},
   "outputs": [],
   "source": [
    "# Now convert A to format which is more efficient for solving\n",
    "A_csr = A.tocsr() \n",
    "U = spsolve(A_csr, F)"
   ]
  },
  {
   "cell_type": "code",
   "execution_count": 30,
   "metadata": {},
   "outputs": [],
   "source": [
    "def fdm_poisson_2d_sparse(N, k):\n",
    "    '''A simple finite difference solver in 2d using a full matrix representation.'''\n",
    "\n",
    "    # 1) Compute right hand side     \n",
    "    \n",
    "    # To define the grid we could use \"linspace\" as in Lab 1 to define subdivisions for the $x$ and $y$ axes.\n",
    "    # But to make plotting easy and to vectorize the evaluation of the right-hand side $f$,  \n",
    "    # we define x and y coordinates for the grid using a \"sparse grid\" representation using the function 'ogrid'.\n",
    "   \n",
    "    x,y = np.ogrid[0:1:(N+1)*1j, 0:1:(N+1)*1j]\n",
    "    # Here, 1j is not interpreted as the imaginary unit, rather \"(N+1)*1j\" forces to include the end points\n",
    "    # Print x and y to see how they look like!\n",
    "    \n",
    "    # Evaluate f on the grid. \n",
    "    F_grid = 8 * np.pi**2 * k**2 * np.sin(2 * np.pi * k * x)*np.sin(2 * np.pi * k * y)\n",
    "    \n",
    "    # You can print F_grid to verify that you got a 2 dimensional array\n",
    "    # print(F_grid)\n",
    "    \n",
    "    # You can also plot F_grid now if you want :)\n",
    "    # plot2D(x, y, F_grid, \"f\")\n",
    "    \n",
    "    # Now we define our rhs by flattening out F, making it a 1 dimensional array of length (N+1)*(N+1). \n",
    "    F = F_grid.ravel()  \n",
    "    \n",
    "    # 2) Create Matrix entries for unknowns associated with inner grid points. \n",
    "    \n",
    "    # To translate the grid based double index into a proper numbering, we define a \n",
    "    # small mapping function, assuming a row-wise numbering. \n",
    "    # Drawing a picture of the grid and numbering the grid points in a row wise manner\n",
    "    # helps to understand this mapping!\n",
    "    def m(i,j):\n",
    "        return i + j * (N+1)\n",
    "\n",
    "    # Total number of unknowns is M = (N+1)*(N+1)\n",
    "    M = (N+1)**2\n",
    "    \n",
    "    # Allocate a (full!) MxM matrix filled with zeros\n",
    "    A = sp.dok_matrix((M,M))\n",
    "    \n",
    "    # Meshsize h\n",
    "    h = 1/N\n",
    "    hh = h*h\n",
    "    \n",
    "    # Compute matrix A entries by iterating over the *inner* grid points first.\n",
    "    for i in range(1,N):      # i is the row number for the grid point\n",
    "        for j in range(1,N):  # j is the column number for the grid point\n",
    "            # Compute the index of the unknown at grid point (i,j). \n",
    "            # This is also the index of the row in matrix A we want to fill. \n",
    "            ri = m(i,j)       \n",
    "            A[ri,m(i,j)] = 4/hh # U_ij\n",
    "            A[ri,m(i-1,j)] = -1/hh   # U_{i-1,j}\n",
    "            A[ri,m(i+1, j)] = -1/hh    # U_{i+1,j}\n",
    "            A[ri,m(i,j-1)] = -1/hh    # U_{i,j-1}\n",
    "            A[ri,m(i,j+1)] = -1/hh    # U_{i,j+1}\n",
    "    \n",
    "    # 3) Incorporate boundary conditions\n",
    "    # Boundary condition \n",
    "    for i in [0, N]:\n",
    "        for j in range(0,N+1):\n",
    "            # Define row index related to unknown U_m(i,j)\n",
    "            ri = m(i,j)\n",
    "            A[ri,ri] = 1\n",
    "            F[ri] = 0\n",
    "    \n",
    "    # Boundary condition \n",
    "    for j in [0, N]:\n",
    "        for i in range(1,N):\n",
    "            # Define row index related to unknown U_m(i,j)\n",
    "            ri = m(i,j)\n",
    "            A[ri,ri] = 1 \n",
    "            F[ri] = 0     \n",
    "    \n",
    "    \n",
    "    # 4) Solve linear systems\n",
    "    # Solve linear algebra system \n",
    "    A_csr = A.tocsr() \n",
    "    U = spsolve(A_csr, F)\n",
    "    \n",
    "    # Reshape the flat solution vector U to make it a grid function\n",
    "    U_grid = U.reshape((N+1,N+1))\n",
    "    U_anal = np.sin(2 * np.pi * k * x)*np.sin(2*np.pi*k*y)\n",
    "    \n",
    "    # Return solution and x and y grid points for easy plotting\n",
    "    return (x,y,U_grid, U_anal)"
   ]
  },
  {
   "cell_type": "markdown",
   "metadata": {},
   "source": [
    "**f**) Measure and compare the overall solution time for your two implementations 'fdm_poisson_2d_dense' and 'fdm_poisson_2d_sparse' by using the cell magic command %%timeit.\n",
    "Here is a simple example of its usage. Simply execute the next cell.\n",
    "\n",
    "# Answers\n",
    "\n",
    "## f)\n",
    "We see that for small N, the ordinary dense solver outperforms the sparse solver, while the sparse solver becomes much faster as N grows."
   ]
  },
  {
   "cell_type": "code",
   "execution_count": null,
   "metadata": {},
   "outputs": [],
   "source": [
    "%%timeit # Measure execution time for entire cell, has to be at the top of the cell.\n",
    "\n",
    "def compute_sum(N):\n",
    "    sum = 0\n",
    "    for i in range(0,N):\n",
    "        sum += i\n",
    "    return sum\n",
    "\n",
    "N = 10000000\n",
    "compute_sum(N)"
   ]
  },
  {
   "cell_type": "code",
   "execution_count": 34,
   "metadata": {},
   "outputs": [
    {
     "name": "stdout",
     "output_type": "stream",
     "text": [
      "DENSE N=8\n",
      "441 µs ± 92.1 µs per loop (mean ± std. dev. of 7 runs, 1000 loops each)\n",
      "SPARSE N=8\n",
      "3.87 ms ± 392 µs per loop (mean ± std. dev. of 7 runs, 100 loops each)\n",
      "DENSE N=16\n",
      "2.86 ms ± 1.46 ms per loop (mean ± std. dev. of 7 runs, 100 loops each)\n",
      "SPARSE N=16\n",
      "14.8 ms ± 3.14 ms per loop (mean ± std. dev. of 7 runs, 100 loops each)\n",
      "DENSE N=32\n",
      "41.2 ms ± 6.6 ms per loop (mean ± std. dev. of 7 runs, 10 loops each)\n",
      "SPARSE N=32\n",
      "73.7 ms ± 16.4 ms per loop (mean ± std. dev. of 7 runs, 10 loops each)\n",
      "DENSE N=64\n",
      "1.34 s ± 20 ms per loop (mean ± std. dev. of 7 runs, 1 loop each)\n",
      "SPARSE N=64\n",
      "210 ms ± 1.57 ms per loop (mean ± std. dev. of 7 runs, 1 loop each)\n",
      "DENSE N=128\n"
     ]
    },
    {
     "ename": "KeyboardInterrupt",
     "evalue": "",
     "output_type": "error",
     "traceback": [
      "\u001b[0;31m---------------------------------------------------------------------------\u001b[0m",
      "\u001b[0;31mKeyboardInterrupt\u001b[0m                         Traceback (most recent call last)",
      "\u001b[0;32m/var/folders/lr/zqjrwlh929zbrzhs7p1q_twr0000gq/T/ipykernel_36255/272004678.py\u001b[0m in \u001b[0;36m<module>\u001b[0;34m\u001b[0m\n\u001b[1;32m      3\u001b[0m \u001b[0;32mfor\u001b[0m \u001b[0mN\u001b[0m \u001b[0;32min\u001b[0m \u001b[0mNs\u001b[0m\u001b[0;34m:\u001b[0m\u001b[0;34m\u001b[0m\u001b[0;34m\u001b[0m\u001b[0m\n\u001b[1;32m      4\u001b[0m     \u001b[0mprint\u001b[0m\u001b[0;34m(\u001b[0m\u001b[0;34mf\"DENSE N={N}\"\u001b[0m\u001b[0;34m)\u001b[0m\u001b[0;34m\u001b[0m\u001b[0;34m\u001b[0m\u001b[0m\n\u001b[0;32m----> 5\u001b[0;31m     \u001b[0mget_ipython\u001b[0m\u001b[0;34m(\u001b[0m\u001b[0;34m)\u001b[0m\u001b[0;34m.\u001b[0m\u001b[0mrun_line_magic\u001b[0m\u001b[0;34m(\u001b[0m\u001b[0;34m'timeit'\u001b[0m\u001b[0;34m,\u001b[0m \u001b[0;34m'fdm_poisson_2d_dense(N, 2)'\u001b[0m\u001b[0;34m)\u001b[0m\u001b[0;34m\u001b[0m\u001b[0;34m\u001b[0m\u001b[0m\n\u001b[0m\u001b[1;32m      6\u001b[0m     \u001b[0mprint\u001b[0m\u001b[0;34m(\u001b[0m\u001b[0;34mf\"SPARSE N={N}\"\u001b[0m\u001b[0;34m)\u001b[0m\u001b[0;34m\u001b[0m\u001b[0;34m\u001b[0m\u001b[0m\n\u001b[1;32m      7\u001b[0m     \u001b[0mget_ipython\u001b[0m\u001b[0;34m(\u001b[0m\u001b[0;34m)\u001b[0m\u001b[0;34m.\u001b[0m\u001b[0mrun_line_magic\u001b[0m\u001b[0;34m(\u001b[0m\u001b[0;34m'timeit'\u001b[0m\u001b[0;34m,\u001b[0m \u001b[0;34m'fdm_poisson_2d_sparse(N,2)'\u001b[0m\u001b[0;34m)\u001b[0m\u001b[0;34m\u001b[0m\u001b[0;34m\u001b[0m\u001b[0m\n",
      "\u001b[0;32m/usr/local/lib/python3.9/site-packages/IPython/core/interactiveshell.py\u001b[0m in \u001b[0;36mrun_line_magic\u001b[0;34m(self, magic_name, line, _stack_depth)\u001b[0m\n\u001b[1;32m   2349\u001b[0m                 \u001b[0mkwargs\u001b[0m\u001b[0;34m[\u001b[0m\u001b[0;34m'local_ns'\u001b[0m\u001b[0;34m]\u001b[0m \u001b[0;34m=\u001b[0m \u001b[0mself\u001b[0m\u001b[0;34m.\u001b[0m\u001b[0mget_local_scope\u001b[0m\u001b[0;34m(\u001b[0m\u001b[0mstack_depth\u001b[0m\u001b[0;34m)\u001b[0m\u001b[0;34m\u001b[0m\u001b[0;34m\u001b[0m\u001b[0m\n\u001b[1;32m   2350\u001b[0m             \u001b[0;32mwith\u001b[0m \u001b[0mself\u001b[0m\u001b[0;34m.\u001b[0m\u001b[0mbuiltin_trap\u001b[0m\u001b[0;34m:\u001b[0m\u001b[0;34m\u001b[0m\u001b[0;34m\u001b[0m\u001b[0m\n\u001b[0;32m-> 2351\u001b[0;31m                 \u001b[0mresult\u001b[0m \u001b[0;34m=\u001b[0m \u001b[0mfn\u001b[0m\u001b[0;34m(\u001b[0m\u001b[0;34m*\u001b[0m\u001b[0margs\u001b[0m\u001b[0;34m,\u001b[0m \u001b[0;34m**\u001b[0m\u001b[0mkwargs\u001b[0m\u001b[0;34m)\u001b[0m\u001b[0;34m\u001b[0m\u001b[0;34m\u001b[0m\u001b[0m\n\u001b[0m\u001b[1;32m   2352\u001b[0m             \u001b[0;32mreturn\u001b[0m \u001b[0mresult\u001b[0m\u001b[0;34m\u001b[0m\u001b[0;34m\u001b[0m\u001b[0m\n\u001b[1;32m   2353\u001b[0m \u001b[0;34m\u001b[0m\u001b[0m\n",
      "\u001b[0;32m/usr/local/lib/python3.9/site-packages/decorator.py\u001b[0m in \u001b[0;36mfun\u001b[0;34m(*args, **kw)\u001b[0m\n\u001b[1;32m    230\u001b[0m             \u001b[0;32mif\u001b[0m \u001b[0;32mnot\u001b[0m \u001b[0mkwsyntax\u001b[0m\u001b[0;34m:\u001b[0m\u001b[0;34m\u001b[0m\u001b[0;34m\u001b[0m\u001b[0m\n\u001b[1;32m    231\u001b[0m                 \u001b[0margs\u001b[0m\u001b[0;34m,\u001b[0m \u001b[0mkw\u001b[0m \u001b[0;34m=\u001b[0m \u001b[0mfix\u001b[0m\u001b[0;34m(\u001b[0m\u001b[0margs\u001b[0m\u001b[0;34m,\u001b[0m \u001b[0mkw\u001b[0m\u001b[0;34m,\u001b[0m \u001b[0msig\u001b[0m\u001b[0;34m)\u001b[0m\u001b[0;34m\u001b[0m\u001b[0;34m\u001b[0m\u001b[0m\n\u001b[0;32m--> 232\u001b[0;31m             \u001b[0;32mreturn\u001b[0m \u001b[0mcaller\u001b[0m\u001b[0;34m(\u001b[0m\u001b[0mfunc\u001b[0m\u001b[0;34m,\u001b[0m \u001b[0;34m*\u001b[0m\u001b[0;34m(\u001b[0m\u001b[0mextras\u001b[0m \u001b[0;34m+\u001b[0m \u001b[0margs\u001b[0m\u001b[0;34m)\u001b[0m\u001b[0;34m,\u001b[0m \u001b[0;34m**\u001b[0m\u001b[0mkw\u001b[0m\u001b[0;34m)\u001b[0m\u001b[0;34m\u001b[0m\u001b[0;34m\u001b[0m\u001b[0m\n\u001b[0m\u001b[1;32m    233\u001b[0m     \u001b[0mfun\u001b[0m\u001b[0;34m.\u001b[0m\u001b[0m__name__\u001b[0m \u001b[0;34m=\u001b[0m \u001b[0mfunc\u001b[0m\u001b[0;34m.\u001b[0m\u001b[0m__name__\u001b[0m\u001b[0;34m\u001b[0m\u001b[0;34m\u001b[0m\u001b[0m\n\u001b[1;32m    234\u001b[0m     \u001b[0mfun\u001b[0m\u001b[0;34m.\u001b[0m\u001b[0m__doc__\u001b[0m \u001b[0;34m=\u001b[0m \u001b[0mfunc\u001b[0m\u001b[0;34m.\u001b[0m\u001b[0m__doc__\u001b[0m\u001b[0;34m\u001b[0m\u001b[0;34m\u001b[0m\u001b[0m\n",
      "\u001b[0;32m/usr/local/lib/python3.9/site-packages/IPython/core/magic.py\u001b[0m in \u001b[0;36m<lambda>\u001b[0;34m(f, *a, **k)\u001b[0m\n\u001b[1;32m    185\u001b[0m     \u001b[0;31m# but it's overkill for just that one bit of state.\u001b[0m\u001b[0;34m\u001b[0m\u001b[0;34m\u001b[0m\u001b[0;34m\u001b[0m\u001b[0m\n\u001b[1;32m    186\u001b[0m     \u001b[0;32mdef\u001b[0m \u001b[0mmagic_deco\u001b[0m\u001b[0;34m(\u001b[0m\u001b[0marg\u001b[0m\u001b[0;34m)\u001b[0m\u001b[0;34m:\u001b[0m\u001b[0;34m\u001b[0m\u001b[0;34m\u001b[0m\u001b[0m\n\u001b[0;32m--> 187\u001b[0;31m         \u001b[0mcall\u001b[0m \u001b[0;34m=\u001b[0m \u001b[0;32mlambda\u001b[0m \u001b[0mf\u001b[0m\u001b[0;34m,\u001b[0m \u001b[0;34m*\u001b[0m\u001b[0ma\u001b[0m\u001b[0;34m,\u001b[0m \u001b[0;34m**\u001b[0m\u001b[0mk\u001b[0m\u001b[0;34m:\u001b[0m \u001b[0mf\u001b[0m\u001b[0;34m(\u001b[0m\u001b[0;34m*\u001b[0m\u001b[0ma\u001b[0m\u001b[0;34m,\u001b[0m \u001b[0;34m**\u001b[0m\u001b[0mk\u001b[0m\u001b[0;34m)\u001b[0m\u001b[0;34m\u001b[0m\u001b[0;34m\u001b[0m\u001b[0m\n\u001b[0m\u001b[1;32m    188\u001b[0m \u001b[0;34m\u001b[0m\u001b[0m\n\u001b[1;32m    189\u001b[0m         \u001b[0;32mif\u001b[0m \u001b[0mcallable\u001b[0m\u001b[0;34m(\u001b[0m\u001b[0marg\u001b[0m\u001b[0;34m)\u001b[0m\u001b[0;34m:\u001b[0m\u001b[0;34m\u001b[0m\u001b[0;34m\u001b[0m\u001b[0m\n",
      "\u001b[0;32m/usr/local/lib/python3.9/site-packages/IPython/core/magics/execution.py\u001b[0m in \u001b[0;36mtimeit\u001b[0;34m(self, line, cell, local_ns)\u001b[0m\n\u001b[1;32m   1171\u001b[0m                     \u001b[0;32mbreak\u001b[0m\u001b[0;34m\u001b[0m\u001b[0;34m\u001b[0m\u001b[0m\n\u001b[1;32m   1172\u001b[0m \u001b[0;34m\u001b[0m\u001b[0m\n\u001b[0;32m-> 1173\u001b[0;31m         \u001b[0mall_runs\u001b[0m \u001b[0;34m=\u001b[0m \u001b[0mtimer\u001b[0m\u001b[0;34m.\u001b[0m\u001b[0mrepeat\u001b[0m\u001b[0;34m(\u001b[0m\u001b[0mrepeat\u001b[0m\u001b[0;34m,\u001b[0m \u001b[0mnumber\u001b[0m\u001b[0;34m)\u001b[0m\u001b[0;34m\u001b[0m\u001b[0;34m\u001b[0m\u001b[0m\n\u001b[0m\u001b[1;32m   1174\u001b[0m         \u001b[0mbest\u001b[0m \u001b[0;34m=\u001b[0m \u001b[0mmin\u001b[0m\u001b[0;34m(\u001b[0m\u001b[0mall_runs\u001b[0m\u001b[0;34m)\u001b[0m \u001b[0;34m/\u001b[0m \u001b[0mnumber\u001b[0m\u001b[0;34m\u001b[0m\u001b[0;34m\u001b[0m\u001b[0m\n\u001b[1;32m   1175\u001b[0m         \u001b[0mworst\u001b[0m \u001b[0;34m=\u001b[0m \u001b[0mmax\u001b[0m\u001b[0;34m(\u001b[0m\u001b[0mall_runs\u001b[0m\u001b[0;34m)\u001b[0m \u001b[0;34m/\u001b[0m \u001b[0mnumber\u001b[0m\u001b[0;34m\u001b[0m\u001b[0;34m\u001b[0m\u001b[0m\n",
      "\u001b[0;32m/usr/local/Cellar/python@3.9/3.9.6/Frameworks/Python.framework/Versions/3.9/lib/python3.9/timeit.py\u001b[0m in \u001b[0;36mrepeat\u001b[0;34m(self, repeat, number)\u001b[0m\n\u001b[1;32m    203\u001b[0m         \u001b[0mr\u001b[0m \u001b[0;34m=\u001b[0m \u001b[0;34m[\u001b[0m\u001b[0;34m]\u001b[0m\u001b[0;34m\u001b[0m\u001b[0;34m\u001b[0m\u001b[0m\n\u001b[1;32m    204\u001b[0m         \u001b[0;32mfor\u001b[0m \u001b[0mi\u001b[0m \u001b[0;32min\u001b[0m \u001b[0mrange\u001b[0m\u001b[0;34m(\u001b[0m\u001b[0mrepeat\u001b[0m\u001b[0;34m)\u001b[0m\u001b[0;34m:\u001b[0m\u001b[0;34m\u001b[0m\u001b[0;34m\u001b[0m\u001b[0m\n\u001b[0;32m--> 205\u001b[0;31m             \u001b[0mt\u001b[0m \u001b[0;34m=\u001b[0m \u001b[0mself\u001b[0m\u001b[0;34m.\u001b[0m\u001b[0mtimeit\u001b[0m\u001b[0;34m(\u001b[0m\u001b[0mnumber\u001b[0m\u001b[0;34m)\u001b[0m\u001b[0;34m\u001b[0m\u001b[0;34m\u001b[0m\u001b[0m\n\u001b[0m\u001b[1;32m    206\u001b[0m             \u001b[0mr\u001b[0m\u001b[0;34m.\u001b[0m\u001b[0mappend\u001b[0m\u001b[0;34m(\u001b[0m\u001b[0mt\u001b[0m\u001b[0;34m)\u001b[0m\u001b[0;34m\u001b[0m\u001b[0;34m\u001b[0m\u001b[0m\n\u001b[1;32m    207\u001b[0m         \u001b[0;32mreturn\u001b[0m \u001b[0mr\u001b[0m\u001b[0;34m\u001b[0m\u001b[0;34m\u001b[0m\u001b[0m\n",
      "\u001b[0;32m/usr/local/lib/python3.9/site-packages/IPython/core/magics/execution.py\u001b[0m in \u001b[0;36mtimeit\u001b[0;34m(self, number)\u001b[0m\n\u001b[1;32m    167\u001b[0m         \u001b[0mgc\u001b[0m\u001b[0;34m.\u001b[0m\u001b[0mdisable\u001b[0m\u001b[0;34m(\u001b[0m\u001b[0;34m)\u001b[0m\u001b[0;34m\u001b[0m\u001b[0;34m\u001b[0m\u001b[0m\n\u001b[1;32m    168\u001b[0m         \u001b[0;32mtry\u001b[0m\u001b[0;34m:\u001b[0m\u001b[0;34m\u001b[0m\u001b[0;34m\u001b[0m\u001b[0m\n\u001b[0;32m--> 169\u001b[0;31m             \u001b[0mtiming\u001b[0m \u001b[0;34m=\u001b[0m \u001b[0mself\u001b[0m\u001b[0;34m.\u001b[0m\u001b[0minner\u001b[0m\u001b[0;34m(\u001b[0m\u001b[0mit\u001b[0m\u001b[0;34m,\u001b[0m \u001b[0mself\u001b[0m\u001b[0;34m.\u001b[0m\u001b[0mtimer\u001b[0m\u001b[0;34m)\u001b[0m\u001b[0;34m\u001b[0m\u001b[0;34m\u001b[0m\u001b[0m\n\u001b[0m\u001b[1;32m    170\u001b[0m         \u001b[0;32mfinally\u001b[0m\u001b[0;34m:\u001b[0m\u001b[0;34m\u001b[0m\u001b[0;34m\u001b[0m\u001b[0m\n\u001b[1;32m    171\u001b[0m             \u001b[0;32mif\u001b[0m \u001b[0mgcold\u001b[0m\u001b[0;34m:\u001b[0m\u001b[0;34m\u001b[0m\u001b[0;34m\u001b[0m\u001b[0m\n",
      "\u001b[0;32m<magic-timeit>\u001b[0m in \u001b[0;36minner\u001b[0;34m(_it, _timer)\u001b[0m\n",
      "\u001b[0;32m/var/folders/lr/zqjrwlh929zbrzhs7p1q_twr0000gq/T/ipykernel_36255/2602764830.py\u001b[0m in \u001b[0;36mfdm_poisson_2d_dense\u001b[0;34m(N, k)\u001b[0m\n\u001b[1;32m     75\u001b[0m     \u001b[0;31m# 4) Solve linear systems\u001b[0m\u001b[0;34m\u001b[0m\u001b[0;34m\u001b[0m\u001b[0;34m\u001b[0m\u001b[0m\n\u001b[1;32m     76\u001b[0m     \u001b[0;31m# Solve linear algebra system\u001b[0m\u001b[0;34m\u001b[0m\u001b[0;34m\u001b[0m\u001b[0;34m\u001b[0m\u001b[0m\n\u001b[0;32m---> 77\u001b[0;31m     \u001b[0mU\u001b[0m \u001b[0;34m=\u001b[0m \u001b[0mla\u001b[0m\u001b[0;34m.\u001b[0m\u001b[0msolve\u001b[0m\u001b[0;34m(\u001b[0m\u001b[0mA\u001b[0m\u001b[0;34m,\u001b[0m\u001b[0mF\u001b[0m\u001b[0;34m)\u001b[0m\u001b[0;34m\u001b[0m\u001b[0;34m\u001b[0m\u001b[0m\n\u001b[0m\u001b[1;32m     78\u001b[0m \u001b[0;34m\u001b[0m\u001b[0m\n\u001b[1;32m     79\u001b[0m     \u001b[0;31m# Reshape the flat solution vector U to make it a grid function\u001b[0m\u001b[0;34m\u001b[0m\u001b[0;34m\u001b[0m\u001b[0;34m\u001b[0m\u001b[0m\n",
      "\u001b[0;32m/usr/local/lib/python3.9/site-packages/scipy/linalg/basic.py\u001b[0m in \u001b[0;36msolve\u001b[0;34m(a, b, sym_pos, lower, overwrite_a, overwrite_b, debug, check_finite, assume_a, transposed)\u001b[0m\n\u001b[1;32m    216\u001b[0m         gecon, getrf, getrs = get_lapack_funcs(('gecon', 'getrf', 'getrs'),\n\u001b[1;32m    217\u001b[0m                                                (a1, b1))\n\u001b[0;32m--> 218\u001b[0;31m         \u001b[0mlu\u001b[0m\u001b[0;34m,\u001b[0m \u001b[0mipvt\u001b[0m\u001b[0;34m,\u001b[0m \u001b[0minfo\u001b[0m \u001b[0;34m=\u001b[0m \u001b[0mgetrf\u001b[0m\u001b[0;34m(\u001b[0m\u001b[0ma1\u001b[0m\u001b[0;34m,\u001b[0m \u001b[0moverwrite_a\u001b[0m\u001b[0;34m=\u001b[0m\u001b[0moverwrite_a\u001b[0m\u001b[0;34m)\u001b[0m\u001b[0;34m\u001b[0m\u001b[0;34m\u001b[0m\u001b[0m\n\u001b[0m\u001b[1;32m    219\u001b[0m         \u001b[0m_solve_check\u001b[0m\u001b[0;34m(\u001b[0m\u001b[0mn\u001b[0m\u001b[0;34m,\u001b[0m \u001b[0minfo\u001b[0m\u001b[0;34m)\u001b[0m\u001b[0;34m\u001b[0m\u001b[0;34m\u001b[0m\u001b[0m\n\u001b[1;32m    220\u001b[0m         x, info = getrs(lu, ipvt, b1,\n",
      "\u001b[0;31mKeyboardInterrupt\u001b[0m: "
     ]
    }
   ],
   "source": [
    "# If you want to measure execution time for a single line write %timeit instead\n",
    "Ns = [8, 16,32,64,128]\n",
    "for N in Ns:\n",
    "    print(f\"DENSE N={N}\")\n",
    "    %timeit fdm_poisson_2d_dense(N, 2)\n",
    "    print(f\"SPARSE N={N}\")\n",
    "    %timeit fdm_poisson_2d_sparse(N,2)"
   ]
  },
  {
   "cell_type": "markdown",
   "metadata": {},
   "source": [
    "## Problem 2 (Quadrature Rules)\n",
    "\n",
    "**a)** Write computer functions which compute the integral $\\int_a^b f(x) dx$ \n",
    "for a given $f$ and interval $[a,b]$ using the mid-point, trapezoidal and Simpson's rule.\n",
    "\n",
    "**b)** For the monomial functions $p_i(x) = x^i$ and $i = 1,2,3$,\n",
    "compute the integral $\\int_0^1 p_i(x) dx$ numerically using all three quadrature schemes.\n",
    "Compute the exact integrals analytically and compute the quadrature error\n",
    "$$\n",
    "\\text{err}(p_i, Q) = \\left| \\int_I p_i dx - Q(p_i, I) \\right|\n",
    "$$\n",
    "\n",
    "for each combination of quadrature rule and monomial. Summarize your result in\n",
    "a table (quadrature rules as column header, monomials as row headers).\n",
    "\n",
    "Hint: remember pandas?\n",
    "\n",
    "# Answers\n",
    "\n",
    "## a)\n",
    "See code below.\n",
    "\n",
    "## b)\n",
    "See code below for the values of the exact integrals. These were calculated as\n",
    "$$ \\int x^i dx = \\frac{x^{(i+1)}}{(i+1)} + C, i >= 1 $$\n",
    "\n",
    "See below for error table."
   ]
  },
  {
   "cell_type": "code",
   "execution_count": 3,
   "metadata": {},
   "outputs": [],
   "source": [
    "# x takes in start, mid and end points of the integration\n",
    "# y is corresponding function values evaluated at x\n",
    "def num_integrate(x,y, method):\n",
    "    integral = 0\n",
    "    if method == 'midpoint':\n",
    "        h = x[2] - x[0]\n",
    "        #x = (start, mitt, end)\n",
    "        #y = f(x)\n",
    "        integral = y[1]*h\n",
    "    elif method == 'trapezoid':\n",
    "        h = x[2] - x[0]\n",
    "        integral = (y[2] + y[0])*(h/2)\n",
    "    elif method == 'simpsons':\n",
    "        h = x[2] - x[0]\n",
    "        integral = (y[0] + 4 * y[1] + y[2])*h/6\n",
    "    \n",
    "    return integral"
   ]
  },
  {
   "cell_type": "code",
   "execution_count": 4,
   "metadata": {},
   "outputs": [],
   "source": [
    "def p_i(x,i):\n",
    "    return np.power(x,i)\n",
    "\n",
    "Is = [1,2,3]\n",
    "errors = []\n",
    "f_analytic = [0.5, 1./3., 1./4.] #analytical values for p_i integrated between 0 and 1\n",
    "for i in Is:\n",
    "    x_p = (0,0.5,1)\n",
    "    y_p = p_i(x_p, i)\n",
    "\n",
    "    analytic = f_analytic[i-1]\n",
    "\n",
    "    mid_i = num_integrate(x_p, y_p, 'midpoint')\n",
    "    trapz_i = num_integrate(x_p, y_p, 'trapezoid')\n",
    "    simpson_i = num_integrate(x_p, y_p, 'simpsons')\n",
    "\n",
    "    errs = (\n",
    "        np.abs(mid_i - analytic),\n",
    "        np.abs(trapz_i - analytic),\n",
    "        np.abs(simpson_i - analytic)\n",
    "    )\n",
    "    errors.append(errs)\n",
    "\n",
    "errors = np.array(errors).transpose()\n"
   ]
  },
  {
   "cell_type": "code",
   "execution_count": 8,
   "metadata": {},
   "outputs": [
    {
     "data": {
      "text/html": [
       "<style type=\"text/css\">\n",
       "</style>\n",
       "<table id=\"T_61674_\">\n",
       "  <caption>Errors</caption>\n",
       "  <thead>\n",
       "    <tr>\n",
       "      <th class=\"blank level0\" >&nbsp;</th>\n",
       "      <th class=\"col_heading level0 col0\" >midpoint</th>\n",
       "      <th class=\"col_heading level0 col1\" >Trapezoid</th>\n",
       "      <th class=\"col_heading level0 col2\" >Simpson</th>\n",
       "    </tr>\n",
       "  </thead>\n",
       "  <tbody>\n",
       "    <tr>\n",
       "      <th id=\"T_61674_level0_row0\" class=\"row_heading level0 row0\" >monomial_order_1</th>\n",
       "      <td id=\"T_61674_row0_col0\" class=\"data row0 col0\" >0.000000</td>\n",
       "      <td id=\"T_61674_row0_col1\" class=\"data row0 col1\" >0.000000</td>\n",
       "      <td id=\"T_61674_row0_col2\" class=\"data row0 col2\" >0.000000</td>\n",
       "    </tr>\n",
       "    <tr>\n",
       "      <th id=\"T_61674_level0_row1\" class=\"row_heading level0 row1\" >monomial_order_2</th>\n",
       "      <td id=\"T_61674_row1_col0\" class=\"data row1 col0\" >0.083333</td>\n",
       "      <td id=\"T_61674_row1_col1\" class=\"data row1 col1\" >0.166667</td>\n",
       "      <td id=\"T_61674_row1_col2\" class=\"data row1 col2\" >0.000000</td>\n",
       "    </tr>\n",
       "    <tr>\n",
       "      <th id=\"T_61674_level0_row2\" class=\"row_heading level0 row2\" >monomial_order_3</th>\n",
       "      <td id=\"T_61674_row2_col0\" class=\"data row2 col0\" >0.125000</td>\n",
       "      <td id=\"T_61674_row2_col1\" class=\"data row2 col1\" >0.250000</td>\n",
       "      <td id=\"T_61674_row2_col2\" class=\"data row2 col2\" >0.000000</td>\n",
       "    </tr>\n",
       "  </tbody>\n",
       "</table>\n"
      ],
      "text/plain": [
       "<pandas.io.formats.style.Styler at 0x11e559d60>"
      ]
     },
     "metadata": {},
     "output_type": "display_data"
    }
   ],
   "source": [
    "import pandas as pd\n",
    "\n",
    "data = {'midpoint': errors[0,:],\n",
    "        'Trapezoid': errors[1,:],\n",
    "        'Simpson': errors[2,:]\n",
    "        }\n",
    "\n",
    "df = pd.DataFrame(data, index=['monomial_order_1','monomial_order_2','monomial_order_3'])\n",
    "df = df.style.set_caption('Errors')\n",
    "display(df)"
   ]
  },
  {
   "cell_type": "markdown",
   "metadata": {},
   "source": [
    "**c)** Divide $[0,1]$ into 2, 4 and then 8 equally spaced subintervals.\n",
    "For those combinations of quadrature rules/monomials where the quadrature error does not vanish, compute a better approximation of the integral $\\int_0^1 p_i(x) dx$\n",
    "by applying the corresponding quadrature rule separately on each of the 2, 4, 8 subintervals.\n",
    "What experimental order of convergence do you observe for the quadrature rule/monomial pairs?\n",
    "\n",
    "# Answers\n",
    "\n",
    "## c)\n",
    "See code below for implementation. As we can see from the table below we got an EOC of 2 for all methods and monomial orders which had non-zero error on the entire interval."
   ]
  },
  {
   "cell_type": "code",
   "execution_count": 7,
   "metadata": {},
   "outputs": [
    {
     "data": {
      "text/html": [
       "<style type=\"text/css\">\n",
       "</style>\n",
       "<table id=\"T_912e0_\">\n",
       "  <caption>MIDPOINT</caption>\n",
       "  <thead>\n",
       "    <tr>\n",
       "      <th class=\"blank level0\" >&nbsp;</th>\n",
       "      <th class=\"col_heading level0 col0\" >2</th>\n",
       "      <th class=\"col_heading level0 col1\" >3</th>\n",
       "    </tr>\n",
       "    <tr>\n",
       "      <th class=\"index_name level0\" >N</th>\n",
       "      <th class=\"blank col0\" >&nbsp;</th>\n",
       "      <th class=\"blank col1\" >&nbsp;</th>\n",
       "    </tr>\n",
       "  </thead>\n",
       "  <tbody>\n",
       "    <tr>\n",
       "      <th id=\"T_912e0_level0_row0\" class=\"row_heading level0 row0\" >2</th>\n",
       "      <td id=\"T_912e0_row0_col0\" class=\"data row0 col0\" >2.000000</td>\n",
       "      <td id=\"T_912e0_row0_col1\" class=\"data row0 col1\" >2.000000</td>\n",
       "    </tr>\n",
       "    <tr>\n",
       "      <th id=\"T_912e0_level0_row1\" class=\"row_heading level0 row1\" >4</th>\n",
       "      <td id=\"T_912e0_row1_col0\" class=\"data row1 col0\" >2.000000</td>\n",
       "      <td id=\"T_912e0_row1_col1\" class=\"data row1 col1\" >2.000000</td>\n",
       "    </tr>\n",
       "  </tbody>\n",
       "</table>\n"
      ],
      "text/plain": [
       "<pandas.io.formats.style.Styler at 0x1197b30a0>"
      ]
     },
     "metadata": {},
     "output_type": "display_data"
    },
    {
     "data": {
      "text/html": [
       "<style type=\"text/css\">\n",
       "</style>\n",
       "<table id=\"T_3e1b5_\">\n",
       "  <caption>TRAPEZOID</caption>\n",
       "  <thead>\n",
       "    <tr>\n",
       "      <th class=\"blank level0\" >&nbsp;</th>\n",
       "      <th class=\"col_heading level0 col0\" >2</th>\n",
       "      <th class=\"col_heading level0 col1\" >3</th>\n",
       "    </tr>\n",
       "    <tr>\n",
       "      <th class=\"index_name level0\" >N</th>\n",
       "      <th class=\"blank col0\" >&nbsp;</th>\n",
       "      <th class=\"blank col1\" >&nbsp;</th>\n",
       "    </tr>\n",
       "  </thead>\n",
       "  <tbody>\n",
       "    <tr>\n",
       "      <th id=\"T_3e1b5_level0_row0\" class=\"row_heading level0 row0\" >2</th>\n",
       "      <td id=\"T_3e1b5_row0_col0\" class=\"data row0 col0\" >2.000000</td>\n",
       "      <td id=\"T_3e1b5_row0_col1\" class=\"data row0 col1\" >2.000000</td>\n",
       "    </tr>\n",
       "    <tr>\n",
       "      <th id=\"T_3e1b5_level0_row1\" class=\"row_heading level0 row1\" >4</th>\n",
       "      <td id=\"T_3e1b5_row1_col0\" class=\"data row1 col0\" >2.000000</td>\n",
       "      <td id=\"T_3e1b5_row1_col1\" class=\"data row1 col1\" >2.000000</td>\n",
       "    </tr>\n",
       "  </tbody>\n",
       "</table>\n"
      ],
      "text/plain": [
       "<pandas.io.formats.style.Styler at 0x1197b5610>"
      ]
     },
     "metadata": {},
     "output_type": "display_data"
    }
   ],
   "source": [
    "Ns = [2,4,8]\n",
    "Is = [2,3]\n",
    "f_analytic = [1./3., 1./4.]\n",
    "errors = {\n",
    "    'midpoint': {},\n",
    "    'trapezoid': {}\n",
    "}\n",
    "for i, f_anal in zip(Is, f_analytic):\n",
    "    errors['midpoint'][i] = []\n",
    "    errors['trapezoid'][i] = []\n",
    "\n",
    "    for N in Ns:\n",
    "        x = np.linspace(0,1, N+1)\n",
    "\n",
    "        mid_i = 0\n",
    "        trapz_i = 0\n",
    "        for interval in range(0, N):\n",
    "            x_p = (x[interval],(x[interval+1]+x[interval])*0.5,x[interval+1])\n",
    "            y_p = p_i(x_p, i)\n",
    "\n",
    "            mid_i += num_integrate(x_p, y_p, 'midpoint')\n",
    "            trapz_i += num_integrate(x_p, y_p, 'trapezoid')\n",
    "\n",
    "        errs = (\n",
    "            np.abs(mid_i - f_anal),\n",
    "            np.abs(trapz_i - f_anal)\n",
    "        )\n",
    "        \n",
    "        errors['midpoint'][i].append(errs[0])\n",
    "        errors['trapezoid'][i].append(errs[1])\n",
    "\n",
    "#do error stuff\n",
    "eocs = {\n",
    "    'midpoint': {},\n",
    "    'trapezoid': {}\n",
    "}\n",
    "\n",
    "for i in Is:\n",
    "    eocs['midpoint'][i] = []\n",
    "    eocs['trapezoid'][i] = []\n",
    "    for j in range(0, len(Ns)-1):\n",
    "        mid_err_i = errors['midpoint'][i][j]\n",
    "        mid_err_i_1 = errors['midpoint'][i][j+1]\n",
    "\n",
    "        trapz_err_i = errors['trapezoid'][i][j]\n",
    "        trapz_err_i_1 = errors['trapezoid'][i][j+1]\n",
    "\n",
    "        mid_eoc = np.log(mid_err_i/mid_err_i_1)/np.log(2)\n",
    "        trapz_eoc = np.log(trapz_err_i/trapz_err_i_1)/np.log(2)\n",
    "\n",
    "        eocs['midpoint'][i].append(mid_eoc)\n",
    "        eocs['trapezoid'][i].append(trapz_eoc)\n",
    "\n",
    "df_mid = pd.DataFrame(eocs['midpoint'], index=Ns[0:len(Ns)-1])\n",
    "df_mid.index.name=\"N\"\n",
    "df_mid = df_mid.style.set_caption('MIDPOINT')\n",
    "\n",
    "df_trapz = pd.DataFrame(eocs['trapezoid'], index=Ns[0:len(Ns)-1])\n",
    "df_trapz.index.name=\"N\"\n",
    "df_trapz = df_trapz.style.set_caption('TRAPEZOID')\n",
    "\n",
    "display(df_mid)\n",
    "display(df_trapz)\n"
   ]
  },
  {
   "cell_type": "markdown",
   "metadata": {},
   "source": [
    "## Problem 3 (Piecewise Linear Interpolation)\n",
    "\n",
    "Let $0 = x_0 < x_1 < x_2 < \\ldots < x_{N} = 1$ be a partition of the interval\n",
    "$0\\leq x\\leq 1$ into $N$ subintervals of equal length $h$.  Moreover,\n",
    "let $\\{ \\varphi_j\\}_{j=0}^{N}$ be the set of hat basis functions of $V_h$\n",
    "associated with the $N+1$ nodes $x_j$, $j = 0,1\\ldots, N$, such that\n",
    "$$\n",
    "\\begin{align}\n",
    "  \\varphi_i(x_j) =\n",
    "  \\begin{array}{l}\n",
    "    1, \\quad \\text{if } i = j, \\\\\n",
    "    0, \\quad \\text{if } i \\neq j.\n",
    "  \\end{array}\n",
    "\\end{align}\n",
    "$$\n",
    "The explicit expression for a hat function $\\varphi_i(x)$ is given by \n",
    "$$\n",
    "\\begin{align} \n",
    "  \\varphi_i(x) =\n",
    "  \\begin{array}{ll}\n",
    "    (x-x_{i-1})/h, &\\text{if } x_{i-1} \\leq x \\leq x_i,\\\\\n",
    "    (x_{i+1}-x)/h, & \\text{if } x_i \\leq x \\leq x_{i+1},\\\\\n",
    "    0, & \\text{otherwise.} \n",
    "  \\end{array}\n",
    "\\end{align}\n",
    "$$\n",
    "\n",
    "**a)** Write a Python function that computes and returns the hat functions $\\varphi_i$, $i=0,1,\\dots,N$, where ${\\texttt{xn}}$ is a vector containing the $N+1$ nodal points,\n",
    "and $\\texttt{x}$ is an array of points you want to evaluate hat function\n",
    "$\\varphi_i$ at. Below, two templates are given for two ways of implementation. Choose the one you like most. Then, plot $\\varphi_2$ and $\\varphi_N$ in partitions with $N=4,7,10$. (Use a finer sampling of $[0,1]$ than given by the nodal points for the plotting!)\n",
    "\n",
    "# Answers\n",
    "\n",
    "## a)\n",
    "See code and plots below."
   ]
  },
  {
   "cell_type": "markdown",
   "metadata": {},
   "source": [
    "### Code Snippet"
   ]
  },
  {
   "cell_type": "code",
   "execution_count": 9,
   "metadata": {},
   "outputs": [],
   "source": [
    "import numpy as np\n",
    "import matplotlib.pyplot as plt"
   ]
  },
  {
   "cell_type": "code",
   "execution_count": 27,
   "metadata": {},
   "outputs": [],
   "source": [
    "def hatfun_simple(xn, i, x):\n",
    "    y = np.zeros(x.size)\n",
    "    N = xn.size-1\n",
    "    \n",
    "    # Make indexing work for zero dim array\n",
    "    if x.ndim == 0:\n",
    "        x = np.array([x])\n",
    "    \n",
    "    for j in range(0, y.size):\n",
    "        # Left boundary\n",
    "        if i == 0:\n",
    "            if  xn[0] <= x[j] and x[j] <= xn[1]:\n",
    "                y[j] = (xn[1] - x[j])/(xn[1] - xn[0])\n",
    "        # Right boundary\n",
    "        elif i == N:\n",
    "            if  xn[N-1] <= x[j] and x[j] <= xn[N]:\n",
    "                y[j] = (x[j] - xn[N-1])/(xn[N] - xn[N-1])\n",
    "        # Interior point\n",
    "        elif xn[i-1] <= x[j] and x[j] <= xn[i+1]:\n",
    "            if x[j] <= xn[i]:\n",
    "                y[j] = (x[j] - xn[i-1])/(xn[i]-xn[i-1])\n",
    "            else:\n",
    "                y[j] = (xn[i+1] - x[j])/(xn[i+1]-xn[i])\n",
    "    return y\n",
    "\n",
    "# Alternativly you can try out to use np.piecewise \n",
    "# with anonymous lambda functios (read up documentation on np.piecewise)\n",
    "def hatfun(xn, i, x):\n",
    "    N = len(xn) - 1\n",
    "    if i == 0:\n",
    "        return np.piecewise(x, \n",
    "                            [(xn[0] <= x) & (x <= xn[1])], \n",
    "                            [lambda x: (xn[1] - x)/(xn[1] - xn[0]), 0])\n",
    "    elif i == N:     \n",
    "        return np.piecewise(...)\n",
    "    else:\n",
    "        return np.piecewise(...)"
   ]
  },
  {
   "cell_type": "code",
   "execution_count": 28,
   "metadata": {},
   "outputs": [
    {
     "data": {
      "image/png": "[encoded data removed]",
      "text/plain": [
       "<Figure size 432x288 with 1 Axes>"
      ]
     },
     "metadata": {
      "needs_background": "light"
     },
     "output_type": "display_data"
    },
    {
     "data": {
      "image/png": "[encoded data removed]",
      "text/plain": [
       "<Figure size 432x288 with 1 Axes>"
      ]
     },
     "metadata": {
      "needs_background": "light"
     },
     "output_type": "display_data"
    },
    {
     "data": {
      "image/png": "[encoded data removed]",
      "text/plain": [
       "<Figure size 432x288 with 1 Axes>"
      ]
     },
     "metadata": {
      "needs_background": "light"
     },
     "output_type": "display_data"
    }
   ],
   "source": [
    "# plot phis\n",
    "\n",
    "Ns = [4,7,10]\n",
    "\n",
    "plot_intervals = 100\n",
    "for N in Ns:\n",
    "    xn = np.linspace(0,1,N+1)\n",
    "    x = np.linspace(0,1,plot_intervals+1)\n",
    "    phi_2 = hatfun_simple(xn,2,x)\n",
    "    phi_n = hatfun_simple(xn,N,x)\n",
    "\n",
    "    plt.plot(x,phi_2, label='phi 2')\n",
    "    plt.plot(x,phi_n, label='phi N')\n",
    "    plt.legend()\n",
    "    plt.show()"
   ]
  },
  {
   "cell_type": "markdown",
   "metadata": {},
   "source": [
    "**b**) Write a Python script ${\\texttt { interp1d(f, xn, x)}}$, that computes the linear interpolant $\\pi f_k\\in V_h$, $k=1,2,3$ of \n",
    "\n",
    "* $f_1(x)=x\\sin (3\\pi x)$\n",
    "* $f_2(x)=2-10x$\n",
    "* $f_3(x)=x(1-x)$\n",
    "\n",
    "by using your function ${\\texttt {hatfun}}$. \n",
    "\n",
    "Hint: Recall that the interpolant is defined by\n",
    "$$\n",
    "\\pi f(x) = \\sum_{i=0}^{N} f(x_i) \\varphi_i(x)\n",
    "$$\n",
    "Compute the error in the numerical solution using the $L^2$-norm\n",
    "$\n",
    "    \\left(\\| v \\|_{L^2(I)}= \\left( \\int_I v^2 \\right)^{1/2}\\right)\n",
    "$\n",
    "and present the results in Log-Log plots (error versus $h$) using partitions with $N=2^2,2^3,...,2^6$. Do the errors behave as  \n",
    "$$\n",
    "\\| f - \\pi f \\|_{L^2(I)}^2 \\leqslant C \\sum_{i=0}^{N} h_i^4 \\| f'' \\|_{L^2(I_i)}^2\n",
    "$$\n",
    "for all cases? \n",
    "*Hint*: Use the code for the Simpson's formula to compute the $L^2$-norm per interval in the partition.\n",
    "\n",
    "## Answers\n",
    "\n",
    "# b)\n",
    "See code and plots below.\n",
    "\n",
    "Regarding the errors, we can see from the figures that for the functions $f_1$ and $f_3$, the error is bounded by the given expression. However, for $f_2$, this is not the case. The bounded term is zero (due to the second derivative being zero), while the error is greater than zero."
   ]
  },
  {
   "cell_type": "code",
   "execution_count": 10,
   "metadata": {},
   "outputs": [],
   "source": [
    "def interp1d(f, xn, x):\n",
    "    sum = 0\n",
    "    for i in range(0, xn.size-1):\n",
    "        sum += f(xn[i])*hatfun_simple(xn, i, x)\n",
    "    return sum"
   ]
  },
  {
   "cell_type": "code",
   "execution_count": 29,
   "metadata": {},
   "outputs": [
    {
     "data": {
      "image/png": "[encoded data removed]",
      "text/plain": [
       "<Figure size 432x288 with 1 Axes>"
      ]
     },
     "metadata": {
      "needs_background": "light"
     },
     "output_type": "display_data"
    },
    {
     "data": {
      "image/png": "[encoded data removed]",
      "text/plain": [
       "<Figure size 432x288 with 1 Axes>"
      ]
     },
     "metadata": {
      "needs_background": "light"
     },
     "output_type": "display_data"
    },
    {
     "data": {
      "image/png": "[encoded data removed]",
      "text/plain": [
       "<Figure size 432x288 with 1 Axes>"
      ]
     },
     "metadata": {
      "needs_background": "light"
     },
     "output_type": "display_data"
    }
   ],
   "source": [
    "f_1 = lambda x : x * np.sin(3 * np.pi * x)\n",
    "f_2 = lambda x : 2 - 10 * x\n",
    "f_3 = lambda x : x * (1-x)\n",
    "\n",
    "f_1_bis = lambda x : 6 * np.pi * np.cos(3 * np.pi * x) - x*(3*np.pi)**2 * np.sin(3*np.pi*x)\n",
    "f_2_bis = lambda x : 0\n",
    "f_3_bis = lambda x : -2\n",
    "\n",
    "fs = [f_1, f_2, f_3]\n",
    "f_bisses = [f_1_bis, f_2_bis, f_3_bis]\n",
    "\n",
    "Ns = [4, 8, 16, 32, 64]\n",
    "hs = 1/np.array(Ns)\n",
    "for i in range(0, len(fs)):\n",
    "    f = fs[i]\n",
    "    f_bis = f_bisses[i]\n",
    "\n",
    "    errors = []\n",
    "\n",
    "    bound_term = 0\n",
    "    for N, h in zip(Ns, hs):\n",
    "        xn = np.linspace(0,1, N+1)\n",
    "\n",
    "        interp_integ = 0\n",
    "        f_bis_norm_squared = 0\n",
    "        for j in range(0, N):\n",
    "            x_p = np.array((xn[j], (xn[j+1]+xn[j])/2, xn[j+1]))\n",
    "            y_p = (interp1d(f, xn, x_p) - f(x_p))**2\n",
    "            interp_integ += num_integrate(x_p, y_p, 'simpsons')\n",
    "\n",
    "            y_p_bis = (f_bis(x_p[0])**2, f_bis(x_p[1])**2, f_bis(x_p[2])**2)\n",
    "            f_bis_norm_squared += num_integrate(x_p, y_p_bis, 'simpsons')\n",
    "\n",
    "\n",
    "        l2_norm = np.sqrt(interp_integ)\n",
    "        bound_term += h**4*f_bis_norm_squared;\n",
    "\n",
    "        errors.append(l2_norm)\n",
    "\n",
    "    C = 0.\n",
    "    for error in errors:\n",
    "        if bound_term > 0.00000001:\n",
    "            C = np.max([error/bound_term, C])            \n",
    "\n",
    "    plt.figure(i)\n",
    "    plt.title(f'Error using f_{(i+1)}')\n",
    "    plt.loglog(hs, errors,label=f'f{(i+1)}')\n",
    "    plt.loglog(hs, np.ones(hs.shape) * C * bound_term, label=f'bound function')\n",
    "    plt.legend()\n",
    "    #plt.show()"
   ]
  }
 ],
 "metadata": {
  "anaconda-cloud": {},
  "kernelspec": {
   "display_name": "Python 3",
   "language": "python",
   "name": "python3"
  },
  "language_info": {
   "codemirror_mode": {
    "name": "ipython",
    "version": 3
   },
   "file_extension": ".py",
   "mimetype": "text/x-python",
   "name": "python",
   "nbconvert_exporter": "python",
   "pygments_lexer": "ipython3",
   "version": "3.9.6"
  }
 },
 "nbformat": 4,
 "nbformat_minor": 1
}
