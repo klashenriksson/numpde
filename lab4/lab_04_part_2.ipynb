{
 "cells": [
  {
   "cell_type": "markdown",
   "metadata": {},
   "source": [
    "# Homework 4\n",
    "## Part 2: Our first 2D FEM solver\n",
    "$$\n",
    "\\newcommand{\\dx}{\\,\\mathrm{d}x}\n",
    "\\newcommand{\\ldb}{\\left\\llbracket}\n",
    "\\newcommand{\\rdb}{\\right\\rrbracket}\n",
    "\\newcommand{\\lp}{\\left(}\n",
    "\\newcommand{\\rp}{\\right)}\n",
    "\\newcommand{\\tn}{|\\mspace{-1mu}|\\mspace{-1mu}|}\n",
    "\\newcommand{\\IR}{\\mathbb{R}}\n",
    "\\newcommand{\\dS}{\\mathrm{d}S}\n",
    "\\newcommand{\\ds}{\\mathrm{d}s}\n",
    "$$"
   ]
  },
  {
   "cell_type": "markdown",
   "metadata": {},
   "source": [
    "### This is the solution of:\n",
    "* Klas Henriksson klhe0017@student.umu.se\n",
    "* Joel Nilsson joni0295@student.umu.se\n",
    "* Daniel Dahlgren Lindström dali0125@student.umu.se\n",
    "\n",
    "\n",
    "The same general rules as for Homework 1 applies.\n",
    "\n",
    "$\\newcommand{\\dx}{\\,\\mathrm{d}x}$ \n",
    "$\\newcommand{\\dy}{\\,\\mathrm{d}y}$\n",
    "$\\newcommand{\\dS}{\\,\\mathrm{d}S}$\n",
    "$\\newcommand{\\ds}{\\,\\mathrm{d}s}$"
   ]
  },
  {
   "cell_type": "code",
   "execution_count": null,
   "metadata": {},
   "outputs": [],
   "source": [
    "# Make plotted figures interactive\n",
    "%matplotlib notebook"
   ]
  },
  {
   "cell_type": "code",
   "execution_count": null,
   "metadata": {},
   "outputs": [],
   "source": [
    "from IPython.core.display import HTML\n",
    "def css_styling():\n",
    "    styles = open(\"../styles/custom.css\", \"r\").read()\n",
    "    #styles = open(\"../styles/numericalmoocstyle.css\", \"r\").read()\n",
    "    return HTML(styles)\n",
    "\n",
    "# Comment out next line and execute this cell to restore the default notebook style. \n",
    "#css_styling()"
   ]
  },
  {
   "cell_type": "markdown",
   "metadata": {},
   "source": [
    "Import relevant python modules and our own tiny helper modules."
   ]
  },
  {
   "cell_type": "code",
   "execution_count": 1,
   "metadata": {},
   "outputs": [],
   "source": [
    "import numpy as np\n",
    "import scipy.sparse as sp\n",
    "from scipy.sparse.linalg.dsolve import spsolve\n",
    "\n",
    "import meshtools as mt\n",
    "import plottools as pt"
   ]
  },
  {
   "cell_type": "markdown",
   "metadata": {},
   "source": [
    "## Problem 1 (Green formulas and friends)\n",
    "\n",
    "In this exercise, let $u, v: \\Omega \\to \\mathbb{R}$ be scalar functions\n",
    "defined on $\\Omega \\subseteq \\mathbb{R}^d$\n",
    "and let $\\beta: \\Omega \\to \\mathbb{R}^d$ be a vector field,\n",
    "\n",
    "Starting from the Gauss/divergence theorem, \n",
    "\n",
    "$$\n",
    "\\int_{\\partial \\Omega} \\beta \\cdot n dS\n",
    "= \\int_{\\Omega}\n",
    "\\nabla \\cdot \\beta dx\n",
    "$$\n",
    "\n",
    "derive the following identities, assuming that $u, v$ and  $\\beta$ are smooth enough to make sense of them."
   ]
  },
  {
   "cell_type": "markdown",
   "metadata": {},
   "source": [
    "**a**) \n",
    "\n",
    "$$\n",
    "\\int_{\\Omega} \\partial_{x_i} u dx \n",
    "=\n",
    "\\int_{\\partial \\Omega}{u n_i} dS ,\\quad i = 1,\\ldots,d\n",
    "$$\n",
    "\n",
    "## Answer a)\n",
    "We have $\\left(\\nabla \\cdot \\beta \\right) = \\sum_i^d\\partial_{x_i} \\beta_i$ and that $\\beta \\cdot n = \\sum_i^d \\beta_in_i$. With this we can express Eq. (X) as\n",
    "\n",
    "$$\\int_{\\Omega}{\\sum_{i}^d {\\partial_{x_i} \\beta_i dx}} = \\int_{\\partial \\Omega}{\\sum_{i}{\\beta_i n_i dS}} = $$\n",
    "$$\\sum_i^d{\\int_{\\Omega}{\\partial_{x_i} \\beta_i dx}} = \\sum_i^d{\\int_{\\partial \\Omega}{\\beta_i n_i dS}}$$\n",
    "\n",
    "\n",
    "Now, if we let $\\beta$ be any permutation of the vector field $\\beta = (u,0,0,\\ldots,0)$ we will only have one non-zero term in the sum at the index $i$ where $\\beta$ is $u$:\n",
    "$$\\int_{\\Omega}{\\partial_{x_i} u dx} = \\int_{\\partial \\Omega}{u n_i dS}.$$\n",
    "Thus, for all permutations we have\n",
    "$$\\int_{\\Omega}{\\partial_{x_i} u dx} = \\int_{\\partial \\Omega}{u n_i dS}, \\quad i=1,\\ldots,d$$\n",
    "**b)**\n",
    "$$\n",
    "\\int_{\\Omega} (\\partial_{x_i} u) v dx =\n",
    "\\int_{\\partial \\Omega}{u n_i} v dS\n",
    "-\\int_{\\Omega}  u \\partial_{x_i} v dx, \\quad i = 1,\\ldots,d\n",
    "$$\n",
    "\n",
    "## Answer b)\n",
    "From a) we have\n",
    "$$\n",
    "\\int_{\\Omega} \\partial_{x_i} f dx \n",
    "=\n",
    "\\int_{\\partial \\Omega}{f n_i} dS ,\\quad i = 1,\\ldots,d\n",
    "$$\n",
    "Now assume $f = uv$:\n",
    "$$\n",
    "\\int_{\\Omega} \\partial_{x_i} (uv) dx \n",
    "=\n",
    "\\int_{\\partial \\Omega}{(uv) n_i} dS ,\\quad i = 1,\\ldots,d\n",
    "$$\n",
    "From the product rule we have \n",
    "$$\\partial_{x_i}(uv) = (\\partial_{x_i}u) v + u(\\partial_{x_i}v)$$\n",
    "So the above can be rewritten as\n",
    "$$ \\int_{\\Omega} (\\partial_{x_i}u) v + u(\\partial_{x_i}v) dx = \\int_{\\partial \\Omega}{(uv) n_i} dS ,\\quad i = 1,\\ldots,d$$\n",
    "Which is equivalent to\n",
    "$$\n",
    "\\int_{\\Omega} (\\partial_{x_i} u) v dx =\n",
    "\\int_{\\partial \\Omega}{u n_i} v dS\n",
    "-\\int_{\\Omega}  u \\partial_{x_i} v dx, \\quad i = 1,\\ldots,d\n",
    "$$\n",
    "Q.E.D\n",
    "\n",
    "**c**)\n",
    "$$\n",
    "\\int_{\\Omega} (\\nabla \\cdot \\beta) v dx =\n",
    "\\int_{\\partial \\Omega}\\beta \\cdot n v dS\n",
    "-\\int_{\\Omega}  \\beta \\cdot \\nabla v dx\n",
    "$$\n",
    "\n",
    "## Answer c)\n",
    "First note that an equivalent formulation of identity c) is \n",
    "$$\n",
    "\\int_{\\Omega} (\\nabla \\cdot \\beta) v + \\beta \\cdot \\nabla v dx =\n",
    "\\int_{\\partial \\Omega}\\beta \\cdot n v dS\n",
    "$$\n",
    "If we let $\\beta = \\beta v$ we have from the divergence theorem\n",
    "\n",
    "$$\n",
    "\\int_{\\Omega}{\\nabla \\cdot (\\beta v) dx } = \\int_{\\partial \\Omega}{(\\beta v) \\cdot n dS}\n",
    "$$\n",
    "\n",
    "We also have the vector identity $(\\nabla \\cdot \\beta v) = v(\\nabla \\cdot \\beta) + \\beta \\cdot (\\nabla v)$\n",
    "Thus\n",
    "$$\\int_{\\Omega}{\\nabla \\cdot (\\beta v) dx } = \\int_{\\Omega}{(\\nabla \\cdot \\beta)v + \\beta \\cdot (\\nabla v) dx} = \\int_{\\partial \\Omega}{(\\beta v) \\cdot n dS}$$\n",
    "Q.E.D\n",
    "\n",
    "**d**)\n",
    "$$\n",
    "-\\int_{\\Omega} \\left(\\nabla \\cdot ( A \\nabla u) \\right) v dx =\n",
    "-\\int_{\\partial \\Omega}{  \\left(A \\nabla u\\cdot n\\right) } v dS\n",
    "+\\int_{\\Omega}  A \\nabla u \\cdot \\nabla v dx,\n",
    "$$\n",
    "where $A(x) \\in \\mathbb{R}^{d\\times d}$ is a pointwise defined matrix. \n",
    "\n",
    "## Answer d)\n",
    "An equivalent formulation of the identity is\n",
    "$$\\int_{\\Omega}  A \\nabla u \\cdot \\nabla v + \\left(\\nabla \\cdot ( A \\nabla u) \\right) v dx = \\int_{\\partial \\Omega}{  \\left(A \\nabla u\\cdot n\\right) } v dS$$\n",
    "\n",
    "If we let $\\beta = A\\nabla uv$ we have from the divergence theorem\n",
    "\n",
    "$$\n",
    "\\int_{\\Omega}{\\nabla \\cdot (A\\nabla uv) dx } = \\int_{\\partial \\Omega}{(A \\nabla u \\cdot n)v dS}\n",
    "$$\n",
    "\n",
    "Furthermore, we can utilize the vector identity\n",
    "$$ \\nabla \\cdot (A\\nabla uv) = A\\nabla u \\cdot (\\nabla v) + (\\nabla \\cdot A\\nabla u)v$$\n",
    "From this we can rewrite the above expression as\n",
    "$$\n",
    "\\int_{\\Omega}{\\nabla \\cdot (A\\nabla uv) dx } = \\int_{\\Omega}{A\\nabla u \\cdot (\\nabla v) + (\\nabla \\cdot A\\nabla u)v dx} = \\int_{\\partial \\Omega}{(A \\nabla u \\cdot n)v dS}\n",
    "$$\n",
    "Q.E.D"
   ]
  },
  {
   "cell_type": "markdown",
   "metadata": {},
   "source": [
    "*Hints*: To derive a), think about chosing a special field $\\beta$ in the Divergence theorem. b) and c) can be established by considering $\\partial_{x_i}(uv)$\n",
    "and $\\nabla \\cdot(\\beta v)$."
   ]
  },
  {
   "cell_type": "markdown",
   "metadata": {},
   "source": [
    "## Problem 2 (Your first own 2D FEM solver)"
   ]
  },
  {
   "cell_type": "markdown",
   "metadata": {},
   "source": [
    "The goal of this problem set is to build your first own finite element solver which will probably be a decisive step in your career :)\n",
    "\n",
    "At the end of this problem we will be able to numerically solve\n",
    "\\begin{alignat}{3}\n",
    "-\\nabla \\cdot ( a(x) \\nabla u) &= f && \\quad \\text{in } \\Omega \n",
    "\\\\\n",
    "u &= g_D  && \\quad \\text{on } \\partial \\Omega_D\n",
    "\\\\\n",
    "n\\cdot a \\nabla u  &= \\kappa(g_{R,D} - u) + g_{R,N} && \\quad \\text{on } \\partial \\Omega_R\n",
    "\\end{alignat}\n",
    "\n",
    "Here, $n$ denotes the outward pointing normal vector on $\\partial \\Omega$.\n",
    "\n",
    "Recall that the overall solution procedure works roughly like this:"
   ]
  },
  {
   "cell_type": "markdown",
   "metadata": {},
   "source": [
    "##### 1) Preprocessing\n",
    "\n",
    "You or somebody nice need to generate a suitable mesh $\\{K_i\\}_{i=0}^{n_t-1}$\n",
    "consisting of $n_t$ elements and $n_p$ nodes $\\{N_i\\}_{i=0}^{n_p-1}$ \n",
    "for the given domain $\\Omega$. These are usually given by the point matrix\n",
    "$P$ and connectivity matrix $T$. (Here, the tiny meshgenerators module come into play)."
   ]
  },
  {
   "cell_type": "markdown",
   "metadata": {},
   "source": [
    "##### 2) Finite Element Solver\n",
    "\n",
    "Next you solve your PDE numerically. As discussed, the procedure looks roughly like\n",
    "this\n",
    "\n",
    "1.) Assemble the system matrix, irrespective of any Dirichlet boundary conditions,\n",
    "defined by\n",
    "$$\n",
    "A_{ij} = \\int_\\Omega a(x)\\nabla \\phi_j \\cdot \\nabla \\phi_i dx + \\int_{\\partial\\Omega_R}\\kappa u v dx \\quad i,j = 0,\\ldots n_p-1\n",
    "$$\n",
    "This matrix usually splits up into volume and boundary contribution\n",
    "$$\n",
    "A = A^{\\Omega} + A^{\\partial \\Omega}\n",
    "$$\n",
    "Correspondingly, the assembly of $A$ is often split into\n",
    "\n",
    "* 1a) an assembly of the volume contribution by running over all triangles $K$ \n",
    "* 1b) an assembly of the boundary contribution arising from natural (Robin) boundary conditions\n",
    "by running over all relevant edges $E$\n",
    "\n",
    "Here, $\\{E\\}_{i=1}^{n_{e}}$ is the boundary mesh coming from $\\{K\\}$.\n",
    "Usually you have to mark the edges somehow to distinguish whether they belong to\n",
    "$\\partial \\Omega_N$, $\\partial \\Omega_R$ (for the assembly of the natural boundary conditions imposed in the weak formulation) or  $\\partial \\Omega_D$ (for imposing Dirichlet boundary conditions in the function space).\n",
    "\n",
    "2) Assemble the load vector $b$ defined by\n",
    "$$\n",
    "b_i = \\int_\\Omega f \\phi_i dx + \\int_{\\partial\\Omega_N}(\\kappa g_{R,D} + g_{R,N})\\phi_i dS \\quad i = 0, \\ldots, n_p-1.\n",
    "$$\n",
    "that is, irrespective of any Dirichlet boundary conditions.\n",
    "Again this process can be split into an assembly of the volume and boundary contributions.\n",
    "\n",
    "3) After you assembled the complete matrix system, you incorporate the \n",
    "Dirichlet boundary conditions on the nodes $\\{N_i\\}$ which are part of $\\partial \\Omega_D$. This amounts to replace \n",
    "row $i$ in the Matrix $A$ with the row vector $e_i = (0,\\ldots,0, 1,0,\\ldots,0)$\n",
    "for each Dirichlet boundary node $N_i$. Correspondingly, in the load vector $b$\n",
    "you replace the $i$-th row by $g_D(N_i)$, which leaves you with a modified matrice\n",
    "$\\widetilde{A}$ and a modified vector $\\widetilde{b}$.\n",
    "\n",
    "4) Finally, you solve the resulting matrix system\n",
    "$$\n",
    "\\widetilde{A} U = \\widetilde{b}\n",
    "$$"
   ]
  },
  {
   "cell_type": "markdown",
   "metadata": {},
   "source": [
    "##### Postprocessing\n",
    "\n",
    "Often you want to do something with your computed solution, e.g. plot it, compute derived values such as the mean value $\\tfrac{1}{|\\Omega|}\\int_{\\Omega} u dx$ or the derivative $\\nabla u$. Note this often is relatively easy compared to the finite difference method as you know your discrete solution everywhere thanks to the representation\n",
    "$$\n",
    "u_h(x) = \\sum_{j=0}^{n_p-1} U_j \\phi_j(x) \\quad x \\in \\Omega\n",
    "$$\n",
    "\n",
    "Now let's get started with implementing our FEM solver."
   ]
  },
  {
   "cell_type": "markdown",
   "metadata": {},
   "source": [
    "## Step 1: Assembly of the stiffness matrix (volume contributions)"
   ]
  },
  {
   "cell_type": "markdown",
   "metadata": {},
   "source": [
    "**a)** Start by implementing a first version of the  ```assemble_stiffness_matrix(P, T, a)``` which assemble the volume contributions corresponding to $\\int_K a \\nabla u \\cdot \\nabla v dx$. \n",
    "Here, $P$ and $T$ are the point and connectivity matrices and $a(x)$ is the given coefficient.\n",
    "Supplement the following code outline."
   ]
  },
  {
   "cell_type": "markdown",
   "metadata": {},
   "source": [
    "### Code Outline"
   ]
  },
  {
   "cell_type": "markdown",
   "metadata": {},
   "source": [
    "First, we define a little helper functions which computes\n",
    "for given triangle $K$ the area $|K|$. On $K$ we have three basis function $\\lambda_i=a_i + b_ix + c_iy$ for $i=1,2,3$ with the cofficient vectors $b = (b_0, b_1, b_2)$ and $c = (c_0, c_1, c_2)$. Recall that gradients of the local shape/nodal functions\n",
    "$\\lambda_i$ are given by $\\nabla \\lambda_i = (b_i, c_i)^T$ for\n",
    "$i = 0,1,2$.\n",
    "\n",
    "Before you read through the helper functions convince yourself that the coefficient vectors $b$ and $c$ can be computed using the curl operator $\\times$ as follows:\n",
    "\\begin{align*}\n",
    "b = (y^{(0)},y^{(1)}, y^{(2)}) \\times (1,1,1)\n",
    "\\\\\n",
    "c = (1,1,1)\\times (x^{(0)},x^{(1)}, x^{(2)}) \n",
    "\\end{align*}\n",
    "\n",
    "\n"
   ]
  },
  {
   "cell_type": "code",
   "execution_count": 1,
   "metadata": {},
   "outputs": [],
   "source": [
    "def compute_hat_gradients(tri):\n",
    "    # Compute area\n",
    "    N0, N1, N2 = tri\n",
    "    area=abs(0.5*np.cross(N1-N0, N2-N0))\n",
    "    \n",
    "    # Compute b = (1,1,1) x (x_2^1,x_2^2,x_2^3). c is similar\n",
    "    ones = np.ones(3)\n",
    "    b = np.cross(tri[:,1], ones)/(2*area)\n",
    "    c = np.cross(ones, tri[:,0])/(2*area)\n",
    "\n",
    "    return (area, b, c)"
   ]
  },
  {
   "cell_type": "markdown",
   "metadata": {},
   "source": [
    "Now you are ready to define ```assemble_stiffness_matrix(P, T, a)```. Follow closely the implementation of the mass matrix assembly with only minor modifications."
   ]
  },
  {
   "cell_type": "code",
   "execution_count": null,
   "metadata": {},
   "outputs": [],
   "source": [
    "def assemble_stiffness_matrix(P, T, a):\n",
    "    # Create matrix as before\n",
    "    # As in the mass matrix assembly:\n",
    "    # Deduce number of unkowns from dimensions of P\n",
    "    # number of elements from dimensions of T and sparse matrix A\n",
    "\n",
    "    n_p = P.shape[0]\n",
    "    n_t = T.shape[0]\n",
    "\n",
    "    A = sp.dok_matrix((n_p, n_p))\n",
    "\n",
    "    for  K in range(n_t):\n",
    "        # Get local to global map\n",
    "        l2g = T[K,:]\n",
    "        # Get triangle coordinates and compute area\n",
    "        tri = P[l2g, :]\n",
    "\n",
    "        midpoint = (\n",
    "            tri[0][0] + tri[1][0] + tri[2][0],\n",
    "            tri[0][1] + tri[1][1] + tri[2][1]\n",
    "        )\n",
    "        \n",
    "        # Compute abar = a((N0 + N1 + N2)/3) to approximate \\int_K a(x)dx\n",
    "        abar = a(midpoint[0]/3, midpoint[1]/3)\n",
    "        print(abar)\n",
    "        \n",
    "        # Compute the area and the coefficient for the hat gradients\n",
    "        area, b, c = compute_hat_gradients(tri)\n",
    "\n",
    "        # Numpy Arrays does not behave exactly like n x 1 matrices\n",
    "        # To compute the outer product b*b.T or  b*b' in Matlab notation\n",
    "        # we need the np.outer function\n",
    "        A_K = abar*(np.outer(b, b) + np.outer(c, c))*area\n",
    "        \n",
    "        # Add local element matrix to global matrix as before\n",
    "        A[np.ix_(l2g, l2g)] += A_K\n",
    "\n",
    "    return A"
   ]
  },
  {
   "cell_type": "markdown",
   "metadata": {},
   "source": [
    "**b**) As a first test run, let us use your new ```assemble_stiffness_matrix``` and the ```assemble_load_vector``` function previously implemented in Part 1 (that is only the volume contributions).\n",
    "Assemble the stiffness matrix $A$ with coefficient $a(x) = 1$, load vector $b$ with \n",
    "\n",
    "$$f(x,y) = 1$$\n",
    "\n",
    "on a simple unit square mesh with resolution $h = 1/N$ and $N = 20$.\n",
    "Solve the resulting linear system $ AU = b$. \n",
    "\n",
    "* Plot your solution. Pay attend to the amplitude of your solution. \n",
    "* Discuss your observation from the plot. It is helpful to check the rank of the matrix \n",
    "\n",
    "*Hint*: Look into lab 2 for recalling how sparse linear systems are solved, don't forget to convert the assembled matrix A into the more efficient format *csr* before solving."
   ]
  },
  {
   "cell_type": "markdown",
   "metadata": {},
   "source": [
    "### Code Snippets"
   ]
  },
  {
   "cell_type": "code",
   "execution_count": null,
   "metadata": {},
   "outputs": [],
   "source": [
    "# Numpy way to define constant functions such that an\n",
    "# array of constants is returned if x,y were arrays.\n",
    "def f(x,y):\n",
    "    return 1*np.ones_like(x)"
   ]
  },
  {
   "cell_type": "code",
   "execution_count": null,
   "metadata": {},
   "outputs": [],
   "source": [
    "# Use scipy to compute the rank of the matrix\n",
    "A_mat = np.matrix(A_csr.todense())\n",
    "rank = np.linalg.matrix_rank(A_mat)"
   ]
  },
  {
   "cell_type": "markdown",
   "metadata": {},
   "source": [
    "## Step 2: Incorporation of Dirichlet boundary conditions"
   ]
  },
  {
   "cell_type": "markdown",
   "metadata": {},
   "source": [
    "**c**) Next, we start with implementing the incorporation of Dirchlet boundary conditions.\n",
    "\n",
    "As a first step, implement a tiny function which checks\n",
    "whether a given point $x = (x_0, x_1)$ is on the boundary of the unitsquare or not.\n",
    "The function should return ```True``` if the point is on the boundary, otherwise return ```False```."
   ]
  },
  {
   "cell_type": "markdown",
   "metadata": {},
   "source": [
    "### Code Snippet"
   ]
  },
  {
   "cell_type": "code",
   "execution_count": null,
   "metadata": {},
   "outputs": [],
   "source": [
    "def on_dirichlet_boundary(x):\n",
    "    eps = 1e-12 # Accounts for finite precision\n",
    "    return  (x[0] < eps or .... )"
   ]
  },
  {
   "cell_type": "markdown",
   "metadata": {},
   "source": [
    "With such a function a place, one can extract the boundary point using the following code snippet which returns a list of all node indices $i$ of those nodes $N_i$ for which a given function ```inside_domain(N_i)``` evaluates to ```True```."
   ]
  },
  {
   "cell_type": "code",
   "execution_count": null,
   "metadata": {},
   "outputs": [],
   "source": [
    "def extract_nodes(P, inside_domain):\n",
    "    return [ i for i in range(P.shape[0]) if inside_domain(P[i]) ]"
   ]
  },
  {
   "cell_type": "markdown",
   "metadata": {},
   "source": [
    "*Side note*: The construct\n",
    "\n",
    "```python\n",
    "[ i for i in range(P.shape[0]) if inside_domain(P[i]) ]\n",
    "```\n",
    "is an example of Python's list comprehension capabilities which allows for a clean and readable\n",
    "definition of list objects. It means: Construct a list of indices ```i``` by iterating\n",
    "over the range ```0, ...  P.shape[0]-1``` (```P.shape[0]``` is the number of points),\n",
    "and include only those indices ```i``` for which ```inside_domain(P[i])``` evaluates to ```True```. In the end, you get a list of those node indices $i$, for which the corresponding node\n",
    "$N_i$ was inside your specified domain; that is, on the Dirichlet boundary if you use\n",
    "```on_dirichlet_boundary``` as 2nd argument to ```extract_nodes```."
   ]
  },
  {
   "cell_type": "markdown",
   "metadata": {},
   "source": [
    "Now define unitsquare meshes with 1, 2 and 3 subdivision in each direction and \n",
    "check whether you extract all Dirichlet boundary nodes correctly by\n",
    "using the improved $\\texttt{plot_mesh_2d}$ function now residing in the $\\texttt{plottools}$ module. Use the new optional 3 function argument \"dirichlet_nodes\" in $\\texttt{plot_mesh_2d}$ to plot the extracted nodes."
   ]
  },
  {
   "cell_type": "code",
   "execution_count": null,
   "metadata": {},
   "outputs": [],
   "source": [
    "# Generat a mesh\n",
    "P, T = mt.unitsquare_mesh(1)\n",
    "# Extract mesh coordinates\n",
    "X = ...\n",
    "Y = ...\n",
    "dirichlet_nodes = extract_nodes(P, on_dirichlet_boundary)\n",
    "print(dirichlet_nodes)\n",
    "pt.plot_mesh_2d(P, T, dirichlet_nodes)"
   ]
  },
  {
   "cell_type": "markdown",
   "metadata": {},
   "source": [
    "**d**) Next you need a piece of code to evaluate boundary functions at the nodes you extracted and to incorporate these values into the matrix $A$ and $b$.\n",
    "\n",
    "Make sure that you understand the code snippets."
   ]
  },
  {
   "cell_type": "markdown",
   "metadata": {},
   "source": [
    "### Code Snippets "
   ]
  },
  {
   "cell_type": "markdown",
   "metadata": {},
   "source": [
    "Example of evaluation of $g_D$ at Dirichlet nodes"
   ]
  },
  {
   "cell_type": "code",
   "execution_count": null,
   "metadata": {},
   "outputs": [],
   "source": [
    "# Generat a mesh\n",
    "P, T = mt.unitsquare_mesh(5)\n",
    "\n",
    "# Extract mesh coordinates\n",
    "X = ...\n",
    "Y = ...\n",
    "\n",
    "# Define/use your on_dirichlet_boundary and extract_nodes functions\n",
    "# to compute the dirichlet nodes\n",
    "dirichlet_nodes = extract_nodes(P,on_dirichlet_boundary)\n",
    "\n",
    "# Extract coordinates associated with Dirichlet nodes \n",
    "# using an array slicing operation\n",
    "X_dc = X[dirichlet_nodes]\n",
    "Y_dc = Y[dirichlet_nodes]\n",
    "\n",
    "# Evaluate g at boundary nodes and \n",
    "g_D_values = g_D(X_dc, Y_dc)"
   ]
  },
  {
   "cell_type": "markdown",
   "metadata": {},
   "source": [
    "Incorporation of Dirichlet BC."
   ]
  },
  {
   "cell_type": "code",
   "execution_count": null,
   "metadata": {},
   "outputs": [],
   "source": [
    "def apply_bcs(A, b, dirichlet_nodes, g_D_values):\n",
    "    # Incorporate boundary condition in vector b\n",
    "    # by slicing out entries of b associated with dirichlet nodes\n",
    "    # and setting them to the corresponding value\n",
    "    b[dirichlet_nodes] = g_D_values\n",
    "\n",
    "    # Incorporate boundary conditions in matrix A\n",
    "    # 1. Set all rows corresponding to Dirichlet nodes to 0\n",
    "    A[dirichlet_nodes, :] = 0 \n",
    "    \n",
    "    # 2. Set diagonal in Dirichlet nodes to one \n",
    "    # (Opposed to Matlab this code line practically\n",
    "    # extracts a part of the diagonal corresponding to passes indices in  \n",
    "    # dirichlet_nodes and set them to 1\n",
    "    A[dirichlet_nodes, dirichlet_nodes] = 1"
   ]
  },
  {
   "cell_type": "markdown",
   "metadata": {},
   "source": [
    "**e**) Next, do a first check of the correctness of your implementation by solving"
   ]
  },
  {
   "cell_type": "markdown",
   "metadata": {},
   "source": [
    "\\begin{alignat*}{3}\n",
    "-\\Delta u &= 0 && \\quad \\text{in } \\Omega \\\\\n",
    " u(x,y) &= x + y &&\\quad \\text{on } \\partial \\Omega\n",
    "\\end{alignat*}"
   ]
  },
  {
   "cell_type": "markdown",
   "metadata": {},
   "source": [
    "and plotting $u$, $u_h$ and their difference. \n",
    "\n",
    "What is the exact solution $u$? And how does the finite element solution $u_h$ and the error look like?\n"
   ]
  },
  {
   "cell_type": "markdown",
   "metadata": {},
   "source": [
    "**f**) Next, solve the problem\n",
    "\\begin{alignat*}{3}\n",
    "-\\Delta u &= 1 && \\quad \\text{in } \\Omega \\\\\n",
    " u &= 0 &&\\quad \\text{on } \\partial \\Omega.\n",
    "\\end{alignat*}\n",
    "on unit square meshes with mesh size $h=1/N$ for $N = 5, 40$\n",
    "and plot the FEM solution. "
   ]
  },
  {
   "cell_type": "markdown",
   "metadata": {},
   "source": [
    "**g**) Repeat the experiment, this time for the boundary value problem \n",
    "\\begin{alignat*}{3}\n",
    "-\\Delta u &= 1 && \\quad \\text{in } \\Omega \\\\\n",
    " u &= 0 &&\\quad \\text{on } \\partial \\Omega_D,\n",
    " \\\\\n",
    " \\nabla u \\cdot n &= 0 &&\\quad \\text{on } \\partial \\Omega_N,\n",
    "\\end{alignat*}\n",
    "where $\\partial \\Omega_N = \\{1\\} \\times [0,1]$ is right edge of the the unit square\n",
    "and $\\partial \\Omega_D = \\partial \\Omega \\setminus \\partial \\Omega_N$.\n",
    "\n",
    "How can you interpret the Neuman condition $\\nabla u \\cdot n = 0$ on $\\partial \\Omega_N$ geometrically? "
   ]
  },
  {
   "cell_type": "markdown",
   "metadata": {},
   "source": [
    "## Step 3: Incorporation of inhomogeneous Neumann boundary conditions"
   ]
  },
  {
   "cell_type": "markdown",
   "metadata": {},
   "source": [
    "**h**) The next task is to incorporate inhomogeneous Neumann conditions\n",
    "\\begin{align*}\n",
    "\\nabla u \\cdot n &= g_N \\quad \\text{on } \\partial \\Omega_N\n",
    "\\end{align*}\n",
    "for some $g_N \\neq 0$. Thus to obtain the load vector $b$, you now need to compute integrals of the form   \n",
    "\\begin{align*}\n",
    "\\int_{\\Omega} f \\varphi_i\n",
    "\\dx + \\int_{\\partial \\Omega_N} g_N \\varphi_i \\quad i = 0,\\ldots,n_p-1.\n",
    "\\end{align*}\n",
    "\n",
    "To do so, you have to do accomplish 2 things:\n",
    "\n",
    "1. Similar to extracting the Dirichlet nodes to impose Dirichlet boundary conditions, you need\n",
    "now to extract the Neumann boundary edges $\\mathcal{E}_{h,N}$ of $\\mathcal{K}_h$ which comprises the boundary $\\partial \n",
    "\\Omega_N$. At the end of the day you want to have $n_e\\times 2$  \"Edge\" connectivity matrix $E_N$ \n",
    "(similar to the triangle connectivity matrix $T$), where $n_e$ is the number of extracted boundary\n",
    "edges. Column $j$ in the \"Edge\" connectivity matrix $E_N$ then gives the the two  indices of the nodes defining the\n",
    "boundary edge $E_j$. Note that the set of extracted boundary edges is only a *subset* of the set of *all* edges in $\\mathcal{K}_h$.\n",
    "2. Next, in addition to the previous arguments ```T, P, f```, you need to pass $E_N$ and $g_N$ to your ```assemble_load_vectorc function and add a loop which assembles the contribution\n",
    "$\\int_{E} g_N \\varphi_i \\dS$ from\n",
    "the boundary $\\partial \\Omega_N$ by iterating over $\\mathcal{E}_{h,N}$. This is **very** similar to\n",
    "what you did to compute the volume contribution $\\int_{K} f \\varphi_i \\dx$.\n",
    "As a proper quadrature rule to assemble $\\int_{E} g_N \\varphi_i \\dS$, simply apply the 1-d trapezoidal rule to the 1d edge $E$ and integrand $g_N \\varphi_i$. Convince yourself that the resulting local/edge load vector contribution looks like\n",
    "\\begin{align*}\n",
    "b_E = \\dfrac{|E|}{2} \n",
    "\\begin{bmatrix}\n",
    "g_N(N_0) , g_N(N_1)    \n",
    "\\end{bmatrix}^T\n",
    "\\end{align*}\n",
    "where $N_0$ and $N_1$ are the two nodes (in local numbering) belonging to edge $E$. \n"
   ]
  },
  {
   "cell_type": "markdown",
   "metadata": {},
   "source": [
    "### Code Snippets\n",
    "\n",
    "Make sure that you understand the following code snippet)"
   ]
  },
  {
   "cell_type": "code",
   "execution_count": 1,
   "metadata": {},
   "outputs": [],
   "source": [
    "def extract_edges(P, T, inside_domain):\n",
    "    \"\"\"Short function which extract all edge indices i\n",
    "    for which the inside_domain(P[i]) evaluates to True\n",
    "    for both edge vertices.\n",
    "    \"\"\"\n",
    "    edges = []\n",
    "    for t in T:\n",
    "        # Iterate over edges\n",
    "        for i in range(3):\n",
    "            # Check whether end points of edges are inside domain\n",
    "            # Note that we use the index notation t[-1] to access the last node\n",
    "            if inside_domain(P[t[i-1]]) and inside_domain(P[t[i]]):\n",
    "                edges.append([t[i-1], t[i]])\n",
    "    # Return the edge list as numpy array to treat it similar\n",
    "    # to T. Note that we have to explicitly tell the array constructor\n",
    "    # that the element of the array should be treat as integers!\n",
    "    # Otherwise you will get indexing problems later on.\n",
    "    return np.array(edges, dtype=np.int32)"
   ]
  },
  {
   "cell_type": "markdown",
   "metadata": {},
   "source": [
    "Now you need to define proper ```inside_domain``` function, similiar to you ```on_dirichlet_boundary``` function, e.g."
   ]
  },
  {
   "cell_type": "code",
   "execution_count": null,
   "metadata": {},
   "outputs": [],
   "source": [
    "def inhomog_neumann_boundary(x):\n",
    "    ..."
   ]
  },
  {
   "cell_type": "markdown",
   "metadata": {},
   "source": [
    "Note that the ```plot_mesh_2d``` function can visualize a set of edges if you pass one, this is\n",
    "very useful to visually check whether your ```inhomog_neumann_boundary``` does what you expect!"
   ]
  },
  {
   "cell_type": "markdown",
   "metadata": {},
   "source": [
    "**i**) \n",
    "Next, to appreciate your craftsmanship, validate your new functionality using the method\n",
    "of manufactured solutions. Start from the exact solution\n",
    "$$\n",
    "u(x,y) = \\sin(\\pi x) \\cos(\\pi y)\n",
    "$$\n",
    "to construct a manufactured solution for the boundary value problem\n",
    "\\begin{alignat*}{3}\n",
    "-\\Delta u &= f && \\quad \\text{in } \\Omega \\\\\n",
    " u &= g_D &&\\quad \\text{on } \\partial \\Omega_D,\n",
    " \\\\\n",
    " \\nabla u \\cdot n &= g_N &&\\quad \\text{on } \\partial \\Omega_N,\n",
    "\\end{alignat*}\n",
    "by computing the proper problem data $f$, $g_D$ and $g_N$. Here,\n",
    "$\\partial \\Omega_N = \\{0\\} \\times[0,1]$ is the left edge of the unit\n",
    "square and\n",
    "$\\partial \\Omega_D = \\partial \\Omega \\setminus \\partial \\Omega_N$."
   ]
  },
  {
   "cell_type": "markdown",
   "metadata": {},
   "source": [
    "Proceed as follows:\n",
    "\n",
    "* with the computed problem data $f$, $g_D$ and $g_N$ at hand, solve the given boundary value problem  numerically using your finite element solver on unit square meshes with mesh size $h=1/N$ for $N = 5, 10, 20, 40$;\n",
    "* plot the exact solution $u$, the finite element solution $u_h$ and the error function $u - u_h$\n",
    "for $N = 5, 20, 40$;\n",
    "* compute analytically the integral\n",
    "$ ||  u \\||^2 = \\| \\nabla u \\|_{L^2(\\Omega)}^2 = \\int_{\\Omega} |\\nabla u |^2 dx$\n",
    "Hint: it boils down to the computation of some 1D integrals.\n",
    "* compute for $N = 5, 10, 20, 40$ the discretization error and resulting experimental order of convergence (EOC) based on the formula\n",
    "$|| u - u_h ||^2 \\approx || u \\||^2 - || u_h ||^2$ previously employed in Lab 3 (Why does this last formula  not hold exactly?). Note that the matrix used to compute $|| u_h ||^2 = \\xi^TA_h\\xi$ should not have the Dirichlet boundary conditions implemented. \n",
    "\n",
    "Hint: do you think A will be changed after calling the function ```apply_bcs```? If you are not sure, write a similar test function to find out. Hopefully you will see that, you need to make minor modifications to ```apply_bcs``` for computing the error in the energy norm. "
   ]
  }
 ],
 "metadata": {
  "anaconda-cloud": {},
  "kernelspec": {
   "display_name": "Python 3",
   "language": "python",
   "name": "python3"
  },
  "language_info": {
   "codemirror_mode": {
    "name": "ipython",
    "version": 3
   },
   "file_extension": ".py",
   "mimetype": "text/x-python",
   "name": "python",
   "nbconvert_exporter": "python",
   "pygments_lexer": "ipython3",
   "version": "3.9.6"
  }
 },
 "nbformat": 4,
 "nbformat_minor": 1
}
