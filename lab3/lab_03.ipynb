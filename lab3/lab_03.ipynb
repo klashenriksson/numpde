{
 "cells": [
  {
   "cell_type": "markdown",
   "metadata": {},
   "source": [
    "# Homework 3"
   ]
  },
  {
   "cell_type": "markdown",
   "metadata": {},
   "source": [
    "### This is the solution of:\n",
    "* Klas Henriksson klhe0017@student.umu.se\n",
    "* Joel Nilsson joni\n",
    "* Daniel Dahlgren Lindström dali\n",
    "\n",
    "\n",
    "The same general rules as for Homework 1 applies.\n",
    "\n",
    "$$\\newcommand{\\dx}{\\,\\mathrm{d}x}\n",
    "\\newcommand{\\ldb}{\\left\\llbracket}\n",
    "\\newcommand{\\rdb}{\\right\\rrbracket}\n",
    "\\newcommand{\\lp}{\\left(}\n",
    "\\newcommand{\\rp}{\\right)}\n",
    "\\newcommand{||}{|\\mspace{-1mu}|\\mspace{-1mu}|}\n",
    "\\newcommand{\\IR}{\\mathbb{R}}\n",
    "$$"
   ]
  },
  {
   "cell_type": "code",
   "execution_count": 1,
   "metadata": {},
   "outputs": [
    {
     "data": {
      "text/html": [
       "<link href='http://fonts.googleapis.com/css?family=Alegreya+Sans:100,300,400,500,700,800,900,100italic,300italic,400italic,500italic,700italic,800italic,900italic' rel='stylesheet' type='text/css'> <link href='http://fonts.googleapis.com/css?family=Arvo:400,700,400italic' rel='stylesheet' type='text/css'> <link href=\"https://fonts.googleapis.com/css?family=News+Cycle\" rel=\"stylesheet\"> <link href='http://fonts.googleapis.com/css?family=Nixie+One' rel='stylesheet' type='text/css'> <link href='http://fonts.googleapis.com/css?family=PT+Mono' rel='stylesheet' type='text/css'> <link href='http://fonts.googleapis.com/css?family=Shadows+Into+Light' rel='stylesheet' type='text/css'> <link href=\"https://fonts.googleapis.com/css?family=Source+Code+Pro\" rel=\"stylesheet\"> <style> @font-face {\n",
       "    /*font-family: \"Computer Modern\";*/\n",
       "    /*src: url('http://mirrors.ctan.org/fonts/cm-unicode/fonts/otf/cmunss.otf');*/\n",
       "    font-family: 'News Cycle', sans-serif;\n",
       "}\n",
       "\n",
       "\n",
       "/* main background */\n",
       "\n",
       "\n",
       "/*#notebook_panel { \n",
       "        background: #C9D4E2;\n",
       "    }*/\n",
       "\n",
       "div.cell {\n",
       "    /*max-width:600px;*/\n",
       "    /*margin-left:16% !important;*/\n",
       "    /*margin-right:auto;*/\n",
       "}\n",
       "\n",
       "div.text_cell {\n",
       "    max-width: 120ex;\n",
       "    /* instead of 100%, */\n",
       "}\n",
       "\n",
       "div.text_cell_render {\n",
       "    font-family: 'Alegreya Sans', Computer Modern, \"Helvetica Neue\", Arial, Helvetica, Geneva,   sans-serif;\n",
       "    line-height: 135%;\n",
       "    /*font-size:    45pt;*/\n",
       "    font-size: 130%;\n",
       "    /*width:600px;*/\n",
       "    /*margin-left:auto;*/\n",
       "    /*margin-right:auto;*/\n",
       "}\n",
       "\n",
       ".CodeMirror {\n",
       "    /*font-family: 'Source Code Pro', monospace;*/\n",
       "    /*font-style: italic;*/\n",
       "    /*font-weight: bold;*/\n",
       "    /*font-size: 120%;*/\n",
       "}\n",
       "\n",
       "\n",
       "/*.prompt{\n",
       "        display: None;\n",
       "    }*/\n",
       "\n",
       ".text_cell_render h1 {\n",
       "    font-family: 'Nixie One', serifV;\n",
       "    font-style: regular;\n",
       "    font-weight: 400;\n",
       "    font-size: 45pt;\n",
       "    line-height: 100%;\n",
       "        color: #497BB9;    \n",
       "    /*color: #5889C5;*/\n",
       "    /*color: rgb(0, 51, 102);*/\n",
       "    /*font-weight: 200;*/\n",
       "    /*font-size: 50pt;*/\n",
       "    margin-bottom: 0.5em;\n",
       "    margin-top: 0.5em;\n",
       "    display: block;\n",
       "}\n",
       "\n",
       ".text_cell_render h2 {\n",
       "    font-family: 'Nixie One', serif;\n",
       "    font-weight: 400;\n",
       "    font-size: 30pt;\n",
       "    line-height: 100%;\n",
       "    /*color: rgb(0,51,102);*/\n",
       "    color: #497BB9;    \n",
       "    margin-bottom: 0.1em;\n",
       "    margin-top: 0.3em;\n",
       "    display: block;\n",
       "}\t\n",
       "\n",
       ".text_cell_render h3 {\n",
       "    font-family: 'Nixie One', serif;\n",
       "    margin-top:16px;\n",
       "    font-size: 22pt;\n",
       "    font-weight: 600;\n",
       "    margin-bottom: 3px;\n",
       "    font-style: regular;\n",
       "    color: rgb(102,102,0);\n",
       "}\n",
       "\n",
       ".text_cell_render h4 {    /*Use this for captions*/\n",
       "    font-family: 'Nixie One', serif;\n",
       "    font-size: 14pt;\n",
       "/*    text-align: center;*/\n",
       "    margin-top: 0em;\n",
       "    margin-bottom: 2em;\n",
       "    font-style: regular;\n",
       "}\n",
       "\n",
       ".text_cell_render h5 {  /*Use this for small titles*/\n",
       "    font-family: 'Nixie One', sans-serif;\n",
       "    font-weight: 400;\n",
       "    font-size: 16pt;\n",
       "    color: rgb(163,0,0);\n",
       "    /*color: #5889C5;*/\n",
       "    /*margin-bottom: .5em;\n",
       "    margin-top: 0.5em;*/\n",
       "    font-style: italic;\n",
       "    margin-bottom: .1em;\n",
       "    margin-top: 0.8em;\n",
       "    display: block;\n",
       "}\n",
       "\n",
       ".warning {\n",
       "    color: rgb( 240, 20, 20)\n",
       "}\n",
       "\n",
       "</style> \n",
       "<script>\n",
       " MathJax.Hub.Config( {\n",
       "    TeX: {\n",
       "        Macros: {\n",
       "            NN: \"{\\\\bf N}\",\n",
       "            RR: \"{\\\\mathbb{R}}\",\n",
       "            mcO: \"{\\\\mathcal{O}}\"\n",
       "        },\n",
       "        equationNumbers: { autoNumber: \"AMS\" },\n",
       "        extensions: [\"AMSmath.js\", \"begingroup.js\"] \n",
       "    },\n",
       "    tex2jax: {\n",
       "        inlineMath: [ ['$', '$'], [\"\\\\(\", \"\\\\)\"]], displayMath: [ ['$$', '$$'], [\"\\\\[\", \"\\\\]\"]]\n",
       "    },\n",
       "    displayAlign: 'center', // Change this to 'center' to center equations.\n",
       "    \"HTML-CSS\": {\n",
       "        styles: {\n",
       "            '.MathJax_Display': {\n",
       "                \"margin\": 4\n",
       "            }\n",
       "        }\n",
       "    }\n",
       "}\n",
       ");\n",
       "</script>\n"
      ],
      "text/plain": [
       "<IPython.core.display.HTML object>"
      ]
     },
     "execution_count": 1,
     "metadata": {},
     "output_type": "execute_result"
    }
   ],
   "source": [
    "from IPython.core.display import HTML\n",
    "def css_styling():\n",
    "    styles = open(\"./custom-style.css\", \"r\").read()\n",
    "    return HTML(styles)\n",
    "\n",
    "# Comment out next line and execute this cell to restore the default notebook style \n",
    "css_styling()"
   ]
  },
  {
   "cell_type": "markdown",
   "metadata": {},
   "source": [
    "## Problem 1 ($L^2$-projection)\n"
   ]
  },
  {
   "cell_type": "markdown",
   "metadata": {},
   "source": [
    "Let $0 = x_0 < x_1 < x_2 < \\ldots < x_{N} = 1$ be a partition of the interval\n",
    "$I = (0,1)$ into $N$ subintervals of equal length $h=1/N$.  Moreover,\n",
    "let $\\{ \\lambda_j\\}_{j=0}^{N}$ be the set of nodal/hat basis functions of $V_h$\n",
    "associated with the $N+1$ nodes $x_j$, $j = 0,1\\ldots, N$, such that\n",
    "The $L^2$-projection reads: find $P_hf\\in V_h$ such that\n",
    "$$\n",
    "    \\int_I(f - P_h f) v dx = 0 \\qquad\\text{for all }v\\in V_h\n",
    "$$\n",
    "We consider three different functions\n",
    "* $f_1(x)=x\\sin (3\\pi x)$\n",
    "* $f_2(x)=2-10x$\n",
    "* $f_3(x)=x(1-x)$"
   ]
  },
  {
   "cell_type": "markdown",
   "metadata": {},
   "source": [
    "**a)** Write a script ${\\texttt {AssembleMassMatrix1D(x)}}$ that computes the mass matrix. \n",
    "\n",
    "**b)** Write a corresponding function $\\texttt{AssembleLoadVector(x,f)}$ which computes \n",
    "the load vector for a given function $f$. Make sure that you can easily switch (for example by adding another input variable) out the quadrature\n",
    "rule (Trapezoid and Simpson) to approximate the integrals $\\int_{I} f \\varphi_i dx$\n",
    "\n",
    "Convince yourself that your code is correct by computing the $L^2$ projection of the given functions, and observe that they look similar to the original function when plotting in the same figure (with enough mesh points). You do not need to document this.\n",
    "\n",
    "**c)** Write a function $\\texttt{ComputeErrorL2(x,Pf,f)}$ which computes the error in $L^2$ norm, \n",
    "$$\\|P_h f-f \\|=\\sqrt{\\int_0^1(P_h f-f)^2 dx}.$$\n",
    "Hint: use the equivalent formula\n",
    "$$\\|P_h f-f \\|=\\sqrt{\\sum_{i=1}^{N} \\int_{x_{i-1}}^{x_{i}}(P_h f-f)^2 dx},$$\n",
    "and approximate the integrals in each subinterval using Simpson's rule.\n",
    "\n",
    "**d)** Test your code by computing the $L^2$-projection $P_h f\\in V_h$ for the three given functions by using the\n",
    "Trapezoidal rule to compute the load vector. Test with different $N$ values. Do the errors converge as expected?\n",
    "\n",
    "**e)** Repeat **d)** using Simpson's rule to compute the load vector. What do you find and why?"
   ]
  },
  {
   "cell_type": "markdown",
   "metadata": {},
   "source": [
    "### Code Snippets"
   ]
  },
  {
   "cell_type": "code",
   "execution_count": 10,
   "metadata": {},
   "outputs": [],
   "source": [
    "import numpy as np\n",
    "import matplotlib.pyplot as plt"
   ]
  },
  {
   "cell_type": "code",
   "execution_count": 35,
   "metadata": {},
   "outputs": [],
   "source": [
    "def AssembleMassMatrix1D(x):\n",
    "    # Number of intervals\n",
    "    N = x.size-1\n",
    "    # 1) Allocate and initiate matrix\n",
    "    M = np.zeros((x.size, x.size))\n",
    "\n",
    "    # 2) Compute volume contributions by iterating over \n",
    "    #    intervals I_0 to I_(N-1):\n",
    "    for i in range(0,N):\n",
    "        # Mesh  size\n",
    "        h = x[i+1] - x[i]\n",
    "        # Compute local mass matrix\n",
    "        M_loc = h/6*np.array([[2, 1],[1, 2]])\n",
    "        # Write local matrix into global\n",
    "        M[i, i] += M_loc[0, 0]\n",
    "        M[i,i+1] += M_loc[0,1]\n",
    "        M[i+1, i] += M_loc[1,0]\n",
    "        M[i+1, i+1] += M_loc[1,1]\n",
    "    \n",
    "    return M"
   ]
  },
  {
   "cell_type": "code",
   "execution_count": 34,
   "metadata": {},
   "outputs": [],
   "source": [
    "def AssembleLoadVector1D(x, f, integ_method):\n",
    "    # Number of intervals\n",
    "    N = x.size - 1\n",
    "    # 1) Allocate and initiate global load vector\n",
    "    b = np.zeros((x.size,1))\n",
    "    # 2) Compute volume contributions by iterating over intervals \n",
    "    #    I_1 to I_N:\n",
    "    for i in range(0,N):\n",
    "        # Mesh  size\n",
    "        h = x[i+1] - x[i]\n",
    "        # Element load vector\n",
    "        b_loc = np.zeros(2)\n",
    "\n",
    "        if integ_method == 'trapezoid':\n",
    "            # Apply quadrature rule to int f phi_{i-1} and int f phi_{i}\n",
    "            # Trapezoidal\n",
    "            b_loc[0] = f(x[i])*h/2\n",
    "            b_loc[1] = f(x[i+1])*h/2\n",
    "        elif integ_method == 'simpsons':\n",
    "            # Simpson\n",
    "            #if i == 0:\n",
    "            #    m = (x[i+1]+x[i])/2\n",
    "            #    b_loc[0] = (f(x[i]) + 4*f(x[m])*0.5)\n",
    "            #    b_loc[1] = 0\n",
    "            #else:\n",
    "            #m_1 = (x[i] + x[i-1])/2\n",
    "            #m_2 = (x[i+1] + x[i])/2\n",
    "\n",
    "            #b_loc[0] = (4 * f(m_1)*0.5 + f(x[i])) * h/6\n",
    "            #b_loc[1] = (4 * f(m_2)*0.5 + f(x[i])) * h/6\n",
    "\n",
    "            #b0 = (f(x0) + 4*f((x1)/2)) * h/6\n",
    "            #b1 = (4 * (f(x1+x0)/2)*0.5 + f(x1) + f(x1) + 4*(f((x2+x1)/2))*0.5) * h/6\n",
    "            #b2 = (4 * f(x2+x1)/2) * 0.5 + f(x2) + f(x2) + 4*(f((x3+x2)/2))*0.5) * h/6\n",
    "            #bN = (4 * f(xn-1 + xn)/2) * 0.5 + f(xn)) * h/6\n",
    "\n",
    "            b_loc[0] = (f(x[i]) + 4 * f( (x[i+1] + x[i])/2 )*0.5) * h/6\n",
    "            b_loc[1] = (4 * f( (x[i+1] + x[i])/2 )*0.5 + f(x[i+1])) * h/6\n",
    "\n",
    "            #b_loc[1] (i=0) + b_loc[0] (i=1) = b[1]\n",
    "        \n",
    "        # Add to global vector\n",
    "        b[i] += b_loc[0]\n",
    "        b[i+1] += b_loc[1]\n",
    "\n",
    "    return b"
   ]
  },
  {
   "cell_type": "code",
   "execution_count": 36,
   "metadata": {},
   "outputs": [],
   "source": [
    "def ComputeErrorL2(x,Pf,f):\n",
    "    # Pf is an arracy consisting of the L2 projection evaluated on the mesh points\n",
    "    # f is a function for f1, f2 or f3\n",
    "    N = Pf.size-1\n",
    "    err = 0\n",
    "    for i in range(N):\n",
    "        h = x[i+1]-x[i]\n",
    "        Pfl = Pf[i] # L2 projection value at x[i]\n",
    "        Pfr = Pf[i+1] # L2 projection value at x[i+1]\n",
    "        fl = f(x[i]) # function value at x[i]\n",
    "        fr = f(x[i+1]) # function value at x[i+1]\n",
    "        m = (x[i]+x[i+1])/2\n",
    "        \n",
    "        e_l = (Pfl - fl)**2;\n",
    "        e_r = (Pfr - fr)**2;\n",
    "        e_m = ((Pfr + Pfl)/2 - f(m))**2; #WTF??\n",
    "        err = err + (e_l + 4*e_m * e_r)*h/6 # Simpsons rule\n",
    "        #print(err)\n",
    "    return np.sqrt(err) # hint: ... is not just err"
   ]
  },
  {
   "cell_type": "code",
   "execution_count": 39,
   "metadata": {},
   "outputs": [
    {
     "data": {
      "image/png": "[encoded data removed]",
      "text/plain": [
       "<Figure size 432x288 with 1 Axes>"
      ]
     },
     "metadata": {
      "needs_background": "light"
     },
     "output_type": "display_data"
    },
    {
     "data": {
      "image/png": "[encoded data removed]",
      "text/plain": [
       "<Figure size 432x288 with 1 Axes>"
      ]
     },
     "metadata": {
      "needs_background": "light"
     },
     "output_type": "display_data"
    },
    {
     "data": {
      "image/png": "[encoded data removed]",
      "text/plain": [
       "<Figure size 432x288 with 1 Axes>"
      ]
     },
     "metadata": {
      "needs_background": "light"
     },
     "output_type": "display_data"
    }
   ],
   "source": [
    "f1 = lambda x : x * np.sin(3 * np.pi * x)\n",
    "f2 = lambda x : 2 - 10 * x\n",
    "f3 = lambda x : x * (1-x)\n",
    "fs = [f1,f2,f3]\n",
    "\n",
    "for f in fs:\n",
    "    N = 30\n",
    "    x = np.linspace(0, 1, N+1)\n",
    "\n",
    "    M = AssembleMassMatrix1D(x)\n",
    "    b_trapz = AssembleLoadVector1D(x, f, 'trapezoid')\n",
    "    b_simps = AssembleLoadVector1D(x, f, 'simpsons')\n",
    "\n",
    "    Pf_trapz = np.linalg.solve(M,b_trapz)\n",
    "    Pf_simps = np.linalg.solve(M,b_simps)\n",
    "\n",
    "    error_trapz = ComputeErrorL2(x, Pf_trapz, f)\n",
    "    error_simps = ComputeErrorL2(x,Pf_simps, f)\n",
    "\n",
    "    x_analytic = np.linspace(0,1,1000)\n",
    "    plt.plot(x_analytic, f(x_analytic))\n",
    "    plt.plot(x,Pf_trapz,'g--')\n",
    "    plt.plot(x,Pf_simps, 'r--')\n",
    "    plt.show()"
   ]
  },
  {
   "cell_type": "markdown",
   "metadata": {},
   "source": [
    "## Problem 2  (The variational/weak formulation of Poisson's equation)"
   ]
  },
  {
   "cell_type": "markdown",
   "metadata": {},
   "source": [
    "Note: Problem 2 is a theoretical exercise. You are not required to write any programming code.\n",
    "\n",
    "**a)**\n",
    "Using integration by parts, derive a weak formulation for the problem \n",
    "\\begin{align*}\n",
    "- (a(x)u(x)')' + c(x)u(x) = f \\quad \\text{in } I = (0,1)\n",
    "\\\\\n",
    "u(0) = g(0), \\quad u(1) = g(1),\n",
    "\\end{align*}\n",
    "for two smooth functions $a(x)$ and $c(x)$ satisfying $a(x) \\geqslant a_0 > 0$\n",
    "and $c(x) \\geqslant 0$, and a boundary function $g: \\{0,1\\} \\to \\mathbb{R}$.\n",
    "Note that the boundary values are not necessarily equal to $0$. Thus while the \n",
    "test functions $v$ are still supposed to be $0$ on the boundary of $I$, \n",
    "the definition of the function space for the solution/trial function $u$ needs to be adapted."
   ]
  },
  {
   "cell_type": "markdown",
   "metadata": {},
   "source": [
    "**b)** Recall that the Galerkin method for numerically solving the two-point boundary value problem\n",
    "\\begin{align*}\n",
    "- u'' = f \\quad \\text{in } I = (0,1)\n",
    "\\\\\n",
    "u(0) = 0, \\quad u(1) = 0,\n",
    "\\end{align*}\n",
    "is to find $u_h$ in a suitable discrete, finite dimensional subspace \n",
    "$V_{0,h} \\subset V_0 = \\left\\{ v : \\| v\\|_{L^2(I)} + \\| v'\\|_{L^2(I)} < \\infty, v(0) = v(1) = 0 \\right \\}$\n",
    "such that for all $v \\in V_{0,h}$\n",
    "\\begin{align*}\n",
    " \\int_I u' v' dx = \\int_I f v dx. \n",
    "\\end{align*}\n",
    "Given basis functions $\\{\\phi_i\\}_{i=1}^{N-1}$ of $V_{0,h}$, show that the discrete weak formulation\n",
    "is equivalent to requiring that \n",
    "\\begin{align*}\n",
    " \\int_I u' \\phi_i' dx = \\int_I f \\phi_i dx, \\quad i =1,\\ldots,N-1, \n",
    "\\end{align*}\n",
    "holds; that is, instead of testing with *all* test functions $v \\in V_{0,h}$, it is enough to test only with the basis functions $\\{\\phi_i\\}_{i=1}^{N-1}$ to determine $u_h$."
   ]
  },
  {
   "cell_type": "markdown",
   "metadata": {},
   "source": [
    "**c)** Next, define the (inner) grid points $\\{x_i\\}_{i=0}^2 = \\{ 0.25, 0.5, 0.75 \\}$ for the\n",
    "interval $[0,1]$ and let $\\{\\phi_i\\}_{i=0}^2$ be the hat functions associated with \n",
    "$\\{x_i\\}_{i=0}^2$. Compute by hand the matrix $3\\times 3$ matrix $A = (a_{ij})$ whose entry are given by\n",
    "$$\n",
    "a_{i j} = \\int_0^1 \\phi_j' \\phi_i' dx \\quad i,j = 0,1,2.\n",
    "$$\n",
    "For the constant right-hand side $f(x) = 10$ compute by hand the vector $F$ with\n",
    "$$\n",
    "F_i = \\int_0^1 f \\phi_i dx, \\quad i = 0, 1, 2\n",
    "$$\n",
    "\n",
    "Use the information from c) to find the finite element approximation $u_h(x) = \\sum_{i=0}^2 U_i \\phi(x)$ for the boundary value problem\n",
    "\\begin{gather}\n",
    "- u''(x) = 10 \\quad x\\in (0,1),\n",
    "\\\\\n",
    "u(0) = u(1) = 0\n",
    "\\end{gather}\n",
    "by solving the linear algebra system $AU = b$."
   ]
  },
  {
   "cell_type": "markdown",
   "metadata": {},
   "source": [
    "## Problem 3 (A 1D Finite Element Solver)\n",
    "\n",
    "**a**) For $u(x) = x + \\cos(2\\pi x)$, compute a right-hand side $f$ and boundary values $g_R$, $g_N$\n",
    "such that $u(x)$ solves the two-point boundary value problem on $I = [0,1]$ given by\n",
    "\\begin{gather}\n",
    "-u''= f, \\quad 0<x<1, \n",
    "\\\\\n",
    "u'(0)=-g_N, \\quad u'(1)= (g_R - u(1))\n",
    "\\end{gather}\n",
    "a Neumann boundary condition on the left end point and a Robin boundary condition on the right end point."
   ]
  },
  {
   "cell_type": "markdown",
   "metadata": {},
   "source": [
    "**b)** Write down the weak form and be precise with the function spaces. Implement a finite element solver for this two-point boundary problem. \n",
    "Use uniform meshes with $h=1/N$ for $N = 4, 8, 16, 32, 64, 128$ and\n",
    "compare the numerical solution $u_h$ with the exact solution $u(x)$\n",
    "by plotting $u_h$ for $N = 4, 8, 16, 128$ and $u$ into the same figure."
   ]
  },
  {
   "cell_type": "markdown",
   "metadata": {},
   "source": [
    "**c)** Note that starting from the weak form, the energy norm is given by\n",
    "$||v||^2=\\int_0^1 v'(x)^2\\,dx + v(1)^2$ for $v \\in V$. Assuming that you can integrate the\n",
    "right hand side $\\int_I f v_h$ **exactly** for $v \\in V_h \\subset V$, show that the energy error satisfies\n",
    "\\begin{align*} \n",
    " ||u-u_h||^2=||u||^2-||u_h||^2     \\quad\\quad\\quad\\quad\\quad\\quad(1)\n",
    "\\end{align*}\n",
    "by exploiting the Galerkin orthogonality. Hint: there is a similar identity in the lecture notes. You may follow the same procedure for the proof, but note that the energy norm here has a different expression (the extra $v(1)^2$).\n",
    "\n",
    "Next, show that the following identity holds: \n",
    "\\begin{align*}\n",
    "|| u_h||^2 =  U^T A U              \\quad\\quad\\quad\\quad\\quad\\quad\\quad\\quad\\quad\\quad (2)\n",
    "\\end{align*}\n",
    "where $U$ is the  coefficient vector corresponding to $u_h = \\sum_{i=0}^{N} U_j \\varphi_j$ and $A$ is the stiffness matrix for the problem at hand."
   ]
  },
  {
   "cell_type": "markdown",
   "metadata": {},
   "source": [
    "**d)** For the given $N$ in b), compute the errors in the follwoing norms\n",
    "\n",
    "* a) The maximum norm \n",
    "* b) The energy norm  \n",
    "\n",
    "present the results in log-log plots (error versus $h$) and specify the convergence rate. \n",
    "\n",
    "Hint: use (1) to compute the error in the energy norm (be careful with the squares). For the first term in the right-hand side of (1), you can use a composite quadrature. For the second term in the right-hand side of (1), you can use the formula given in (2). \n",
    "\n",
    "Hint: (1) only holds if the load vector is computed exactly. When you approximate the integrals in the load vector, use a very accurate quadrature. \n"
   ]
  },
  {
   "cell_type": "markdown",
   "metadata": {},
   "source": [
    "### Code Snippets"
   ]
  },
  {
   "cell_type": "code",
   "execution_count": null,
   "metadata": {},
   "outputs": [],
   "source": [
    "# Implememt assemble allowing for general coefficents a, kappa \n",
    "def AssembleStiffnessMatrix1D(x, a, kappa):\n",
    "    # Number of intervals\n",
    "    N = x.size-1\n",
    "    # 1) Allocate and initiate matrix\n",
    "    A = ...\n",
    "\n",
    "    # 2) Compute volume contributions by iterating over \n",
    "    #    intervals I_0 to I_(N-1):\n",
    "    for i in range(0,N):\n",
    "        # Mesh  size\n",
    "        h = ...\n",
    "        # Mid point\n",
    "        m = ...\n",
    "        # Compute local stiffness matrix\n",
    "        A_loc = ...*np.array([[1, -1],[-1, 1]])\n",
    "        # Write local matrix into global\n",
    "        A[i, i] += A_loc[0, 0]\n",
    "        # Add three more matrix entries\n",
    "        ...\n",
    "        ...\n",
    "        ...\n",
    "    \n",
    "    # 3) Compute natural boundary contributions\n",
    "    # Add Robin on the right\n",
    "    A[N, N] += ...\n",
    "    \n",
    "    return A"
   ]
  },
  {
   "cell_type": "code",
   "execution_count": null,
   "metadata": {},
   "outputs": [],
   "source": [
    "def AssembleLoadVector1D(x, f, k, g_D, g_N, g_R):\n",
    "    # Number of intervals\n",
    "    N = ...\n",
    "    # 1) Allocate and initiate global load vector\n",
    "    b = ...\n",
    "    # 2) Compute volume contributions by iterating over intervals \n",
    "    #    I_0 to I_(N-1):\n",
    "    for i in range(0,N):\n",
    "        # Use the code from the AssembleLoadVector1D used in the L2-projection\n",
    "        ...\n",
    "\n",
    "    # 3) Incorporate boundary values e.g\n",
    "    # Neumann\n",
    "    b[0] += g_N(0)\n",
    "\n",
    "    # Robin\n",
    "    b[N] += ...\n",
    "\n",
    "    return b"
   ]
  }
 ],
 "metadata": {
  "anaconda-cloud": {},
  "kernelspec": {
   "display_name": "Python 3",
   "language": "python",
   "name": "python3"
  },
  "language_info": {
   "codemirror_mode": {
    "name": "ipython",
    "version": 3
   },
   "file_extension": ".py",
   "mimetype": "text/x-python",
   "name": "python",
   "nbconvert_exporter": "python",
   "pygments_lexer": "ipython3",
   "version": "3.9.6"
  }
 },
 "nbformat": 4,
 "nbformat_minor": 1
}
